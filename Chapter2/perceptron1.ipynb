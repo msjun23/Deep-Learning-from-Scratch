{
  "nbformat": 4,
  "nbformat_minor": 0,
  "metadata": {
    "colab": {
      "name": "perceptron1.ipynb",
      "provenance": [],
      "collapsed_sections": [],
      "authorship_tag": "ABX9TyPPnQPjjDhgqes8jTApb3MD",
      "include_colab_link": true
    },
    "kernelspec": {
      "name": "python3",
      "display_name": "Python 3"
    }
  },
  "cells": [
    {
      "cell_type": "markdown",
      "metadata": {
        "id": "view-in-github",
        "colab_type": "text"
      },
      "source": [
        "<a href=\"https://colab.research.google.com/github/msjun23/Deep-Learning-from-Scratch/blob/main/Chapter2/perceptron1.ipynb\" target=\"_parent\"><img src=\"https://colab.research.google.com/assets/colab-badge.svg\" alt=\"Open In Colab\"/></a>"
      ]
    },
    {
      "cell_type": "markdown",
      "metadata": {
        "id": "4Ozl4JXkvLTo"
      },
      "source": [
        "**퍼셉트론**은 1957년에 소개된 알고리즘으로, 신경망(딥러닝)의 기원이 되는 알고리즘이다.\r\n",
        "\r\n",
        "$y=\\left\\{\\begin{matrix}\r\n",
        "0\\;\\;(w_1x_1+w_2x_2\\leq \\theta)\\\\ \r\n",
        "1\\;\\;(w_1x_1+w_2x_2> \\theta)\r\n",
        "\\end{matrix}\\right.$\r\n",
        "\r\n",
        "여기서 $x$는 입력 신호, $y$는 출력, $w$는 가중치, $\\theta$는 임계값\r\n",
        "\r\n",
        "**가중치**는 각 신호가 결과에 주는 영향력을 조절하는 요소로 작용한다. 가중치가 클 수록 해당 신호가 더 중요하다는 뜻이다.\r\n",
        "\r\n"
      ]
    },
    {
      "cell_type": "markdown",
      "metadata": {
        "id": "O4qA01UTwrLU"
      },
      "source": [
        "# 퍼셉트론 구현하기\r\n"
      ]
    },
    {
      "cell_type": "code",
      "metadata": {
        "colab": {
          "base_uri": "https://localhost:8080/"
        },
        "id": "uGcAcOhNtdsM",
        "outputId": "c9f5ed0b-6b75-4f12-f5b7-912e37cb1387"
      },
      "source": [
        "# AND 게이트 구현\r\n",
        "def AND(x1, x2):\r\n",
        "  w1, w2, theta = 0.5, 0.5, 0.7\r\n",
        "  tmp = x1*w1 + x2*w2\r\n",
        "  if tmp <= theta:\r\n",
        "    return 0\r\n",
        "  else:\r\n",
        "    return 1\r\n",
        "\r\n",
        "print(AND(0, 0))\r\n",
        "print(AND(1, 0))\r\n",
        "print(AND(0, 1))\r\n",
        "print(AND(1, 1))"
      ],
      "execution_count": 3,
      "outputs": [
        {
          "output_type": "stream",
          "text": [
            "0\n",
            "0\n",
            "0\n",
            "1\n"
          ],
          "name": "stdout"
        }
      ]
    },
    {
      "cell_type": "markdown",
      "metadata": {
        "id": "NrC7BpUuxXgF"
      },
      "source": [
        "위와 같은 내용이지만, $theta$를 $-b$로 치환하여 표현하겠다.\r\n",
        "\r\n",
        "$y=\\left\\{\\begin{matrix}\r\n",
        "0\\;\\;(b+w_1x_1+w_2x_2\\leq 0)\\\\ \r\n",
        "1\\;\\;(b+w_1x_1+w_2x_2> 0)\r\n",
        "\\end{matrix}\\right.$\r\n",
        "\r\n",
        "나머지는 기존과 동일하고, $b$를 편향(bias)라고 한다."
      ]
    },
    {
      "cell_type": "code",
      "metadata": {
        "colab": {
          "base_uri": "https://localhost:8080/"
        },
        "id": "mMwNlIUJxHhb",
        "outputId": "08334f10-76d4-4ddb-fead-873933d0aac4"
      },
      "source": [
        "import numpy as np\r\n",
        "\r\n",
        "x = np.array([0, 1])    # 입력\r\n",
        "w = np.array([0.5, 0.5])    # 가중치\r\n",
        "b = -0.7    # 편향\r\n",
        "print(w * x)\r\n",
        "\r\n",
        "print(np.sum(w * x))\r\n",
        "\r\n",
        "print(np.sum(w * x) + b)    # 대략 -0.2 (부동소수점 수에 의한 연산 오차)"
      ],
      "execution_count": 7,
      "outputs": [
        {
          "output_type": "stream",
          "text": [
            "[0.  0.5]\n",
            "0.5\n",
            "-0.19999999999999996\n"
          ],
          "name": "stdout"
        }
      ]
    },
    {
      "cell_type": "markdown",
      "metadata": {
        "id": "nAVYSm04yvTu"
      },
      "source": [
        "**가중치**와 **편향**을 도입한 AND 게이트는 다음과 같이 구현할 수 있다.\r\n",
        "\r\n",
        "이때 가중치와 편향을 서로 기능이 다르다는 것을 주의해야한다.\r\n",
        "- 가중치($w_1, w_2$)는 각 입력 신호가 결과에 주는 영향력을 조절하는 매개변수이다.\r\n",
        "- 편향($b$)은 뉴런이 얼마나 쉽게 활성화(결과로 1을 출력) 하느냐를 조정하는 매개변수이다."
      ]
    },
    {
      "cell_type": "code",
      "metadata": {
        "id": "G11aaSXQyNey"
      },
      "source": [
        "# 가중치와 편향을 이요해 AND 게이트 구현\r\n",
        "def AND(x1, x2):\r\n",
        "  x = np.array([x1, x2])\r\n",
        "  w = np.array([0.5, 0.5])\r\n",
        "  b = -0.7\r\n",
        "\r\n",
        "  tmp = np.sum(w * x) + b\r\n",
        "  if tmp <= 0:\r\n",
        "    return 0\r\n",
        "  else:\r\n",
        "    return 1"
      ],
      "execution_count": 8,
      "outputs": []
    },
    {
      "cell_type": "code",
      "metadata": {
        "id": "9ieYYgIP0JVj"
      },
      "source": [
        "# NAND 게이트 구현\r\n",
        "def NAND(x1, x2):\r\n",
        "  x = np.array([x1, x2])\r\n",
        "  w = np.array([-0.5, -0.5])\r\n",
        "  b = 0.7\r\n",
        "\r\n",
        "  tmp = np.sum(w * x) + b\r\n",
        "  if tmp <= 0:\r\n",
        "    return 0\r\n",
        "  else:\r\n",
        "    return 1\r\n",
        "\r\n",
        "# OR 게이트 구현\r\n",
        "def OR(x1, x2):\r\n",
        "  x = np.array([x1, x2])\r\n",
        "  w = np.array([0.5, 0.5])\r\n",
        "  b = -0.2\r\n",
        "\r\n",
        "  tmp = np.sum(w * x) + b\r\n",
        "  if tmp <= 0:\r\n",
        "    return 0\r\n",
        "  else:\r\n",
        "    return 1"
      ],
      "execution_count": 12,
      "outputs": []
    },
    {
      "cell_type": "markdown",
      "metadata": {
        "id": "iwQXPLOh4Nsa"
      },
      "source": [
        "#퍼셉트론의 한계\r\n",
        "\r\n",
        "퍼셉트론을 이용하여 AND, NAND, OR의 3가지 논리회로를 구현할 수 있었다. 이때 **XOR(배타적 논리합)**을 구현하기 위해서는 가중치 매개변수 값을 어떻게 설정해야 할까?\r\n",
        "\r\n",
        "지금까지 본 퍼셉트론으로는 **XOR 게이트를 구현할 수 없다.**\r\n",
        "\r\n",
        "기존의 AND, NAND, OR 게이트의 결과값을 좌표평면에 그려본다면 이들은 직선을 이용해 두 구간(출력이 0 또는 1)으로 나눌 수 있다. 반면, XOR 게이트의 출력을 좌표평면에 그려보면 직선으로는 나눌 수 없다.\r\n",
        "\r\n",
        "하지만 층을 쌓아 **다층 퍼셉트론**을 만들 수 있다면 XOR를 표현할 수 있다."
      ]
    },
    {
      "cell_type": "code",
      "metadata": {
        "colab": {
          "base_uri": "https://localhost:8080/"
        },
        "id": "JCKOY8UF1MsG",
        "outputId": "d3a87274-3358-436a-ddd3-8d1dde140194"
      },
      "source": [
        "# AND, NAND, OR를 사용해 XOR 구현\r\n",
        "def XOR(x1, x2):\r\n",
        "  s1 = NAND(x1, x2)\r\n",
        "  s2 = OR(x1, x2)\r\n",
        "  y = AND(s1, s2)\r\n",
        "\r\n",
        "  return y\r\n",
        "\r\n",
        "print(XOR(0, 0))\r\n",
        "print(XOR(1, 0))\r\n",
        "print(XOR(0, 1))\r\n",
        "print(XOR(1, 1))"
      ],
      "execution_count": 13,
      "outputs": [
        {
          "output_type": "stream",
          "text": [
            "0\n",
            "1\n",
            "1\n",
            "0\n"
          ],
          "name": "stdout"
        }
      ]
    },
    {
      "cell_type": "markdown",
      "metadata": {
        "id": "KZP_r7a8Rnyf"
      },
      "source": [
        "기존의 AND, OR 퍼셉트론은 단층 퍼셉트론인 데 반해, XOR는 2층 퍼셉트론이다. 이처럼 **층이 여러 개**인 퍼셉트론을 **다층 퍼셉트론**이라고 한다.\r\n",
        "\r\n",
        "\r\n",
        "\r\n",
        "1.   0층의 두 뉴런이 입력 신호를 받아 1층의 뉴런으로 신호를 보낸다.\r\n",
        "2.   1층의 뉴런이 2층의 뉴런으로 신호를 보내고, 2층의 뉴런은 $y$를 출력한다.\r\n",
        "\r\n",
        "이처럼 **단층 퍼셉트론으로 구현하지 못한 것을 층을 늘려 구현**할 수 있다."
      ]
    },
    {
      "cell_type": "code",
      "metadata": {
        "id": "N5SMKFOeRBfw"
      },
      "source": [
        ""
      ],
      "execution_count": null,
      "outputs": []
    }
  ]
}