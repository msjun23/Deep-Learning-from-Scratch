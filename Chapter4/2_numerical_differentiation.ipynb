{
  "nbformat": 4,
  "nbformat_minor": 0,
  "metadata": {
    "colab": {
      "name": "2_numerical_differentiation.ipynb",
      "provenance": [],
      "collapsed_sections": [],
      "authorship_tag": "ABX9TyN7VAVPr0dGHLbjbtGsr63S",
      "include_colab_link": true
    },
    "kernelspec": {
      "name": "python3",
      "display_name": "Python 3"
    }
  },
  "cells": [
    {
      "cell_type": "markdown",
      "metadata": {
        "id": "view-in-github",
        "colab_type": "text"
      },
      "source": [
        "<a href=\"https://colab.research.google.com/github/msjun23/Deep-Learning-from-Scratch/blob/main/Chapter4/2_numerical_differentiation.ipynb\" target=\"_parent\"><img src=\"https://colab.research.google.com/assets/colab-badge.svg\" alt=\"Open In Colab\"/></a>"
      ]
    },
    {
      "cell_type": "markdown",
      "metadata": {
        "id": "FLRB3a0tCbvR"
      },
      "source": [
        "# 수치 미분"
      ]
    },
    {
      "cell_type": "code",
      "metadata": {
        "id": "kJimdlUm-3Jm",
        "colab": {
          "base_uri": "https://localhost:8080/"
        },
        "outputId": "fac5b694-2d2d-48f1-c0c9-f07da2388550"
      },
      "source": [
        "# 너무 작은 수(소수점 8자리 이하)의 반올리 오차\r\n",
        "import numpy as np\r\n",
        "\r\n",
        "np.float32(1e-50)"
      ],
      "execution_count": 1,
      "outputs": [
        {
          "output_type": "execute_result",
          "data": {
            "text/plain": [
              "0.0"
            ]
          },
          "metadata": {
            "tags": []
          },
          "execution_count": 1
        }
      ]
    },
    {
      "cell_type": "code",
      "metadata": {
        "id": "nzRJskRsCsqr"
      },
      "source": [
        "# 수치 미분 예시\r\n",
        "def numerical_diff(f, x):\r\n",
        "  h = 1e-4    # 0.0001\r\n",
        "  return (f(x + h) - f(x - h)) / (2 * h)"
      ],
      "execution_count": 2,
      "outputs": []
    },
    {
      "cell_type": "markdown",
      "metadata": {
        "id": "6bpP4QQ_DIi3"
      },
      "source": [
        "> - 해석적 미분 : 수식을 전개해 미분. 수학 시간에 배운 것\r\n",
        "> - 수치 미분 : 아주 작은 차분으로 미분하여 근사치를 구하는 것"
      ]
    },
    {
      "cell_type": "code",
      "metadata": {
        "id": "69nU9XsdDFzA"
      },
      "source": [
        "# y = 0.01x^2 + 0.1x\r\n",
        "def function_1(x):\r\n",
        "  return 0.01 * x**2 + 0.1 * x"
      ],
      "execution_count": 3,
      "outputs": []
    },
    {
      "cell_type": "code",
      "metadata": {
        "colab": {
          "base_uri": "https://localhost:8080/",
          "height": 279
        },
        "id": "WI9lIkdWDvMU",
        "outputId": "842d18e4-47a9-4342-c8d6-3255a34c63b9"
      },
      "source": [
        "import matplotlib.pyplot as plt\r\n",
        "\r\n",
        "x = np.arange(0.0, 20.0, 0.1)\r\n",
        "y = function_1(x)\r\n",
        "plt.xlabel('x')\r\n",
        "plt.ylabel('f(x)')\r\n",
        "plt.plot(x, y)\r\n",
        "plt.show()"
      ],
      "execution_count": 4,
      "outputs": [
        {
          "output_type": "display_data",
          "data": {
            "image/png": "[encoded data removed]",
            "text/plain": [
              "<Figure size 432x288 with 1 Axes>"
            ]
          },
          "metadata": {
            "tags": [],
            "needs_background": "light"
          }
        }
      ]
    },
    {
      "cell_type": "code",
      "metadata": {
        "colab": {
          "base_uri": "https://localhost:8080/"
        },
        "id": "Pa5CgEcNECBU",
        "outputId": "b1100787-b49f-4e0f-9053-cd5fba9e525a"
      },
      "source": [
        "# 수치 미분 예시\r\n",
        "print(numerical_diff(function_1, 5))\r\n",
        "print(numerical_diff(function_1, 10))"
      ],
      "execution_count": 5,
      "outputs": [
        {
          "output_type": "stream",
          "text": [
            "0.1999999999990898\n",
            "0.2999999999986347\n"
          ],
          "name": "stdout"
        }
      ]
    },
    {
      "cell_type": "markdown",
      "metadata": {
        "id": "ZPDPGaLDEVXR"
      },
      "source": [
        "---\r\n",
        "\r\n",
        "# 편미분"
      ]
    },
    {
      "cell_type": "code",
      "metadata": {
        "id": "_rMG8ei5EONA"
      },
      "source": [
        "# f(x_0, x_1) = x_0^2 + x_1^2\r\n",
        "def function_2(x):\r\n",
        "  return x[0]**2 + x[1]**2\r\n",
        "  # return np.sum(x**2)"
      ],
      "execution_count": 6,
      "outputs": []
    },
    {
      "cell_type": "code",
      "metadata": {
        "colab": {
          "base_uri": "https://localhost:8080/"
        },
        "id": "iuhD5R9cEtbF",
        "outputId": "6f00dd6c-b83e-4125-a0a1-50cfa4c8f4a3"
      },
      "source": [
        "# x_0 = 3, x_1 = 4 일 때, x_0에 대한 편미분\r\n",
        "def function_tmp1(x0):\r\n",
        "  return x0 * x0 + 4.0**2.0\r\n",
        "\r\n",
        "print(numerical_diff(function_tmp1, 3.0))"
      ],
      "execution_count": 7,
      "outputs": [
        {
          "output_type": "stream",
          "text": [
            "6.00000000000378\n"
          ],
          "name": "stdout"
        }
      ]
    },
    {
      "cell_type": "code",
      "metadata": {
        "colab": {
          "base_uri": "https://localhost:8080/"
        },
        "id": "FDDNNDghF8-U",
        "outputId": "044a22cd-bd69-42fe-f240-bb33998fd721"
      },
      "source": [
        "# x_0 = 3, x_1 = 4 일 때, x_1에 대한 편미분\r\n",
        "def function_tmp2(x1):\r\n",
        "  return 3.0**2.0 + x1 * x1\r\n",
        "\r\n",
        "print(numerical_diff(function_tmp2, 4.0))"
      ],
      "execution_count": 8,
      "outputs": [
        {
          "output_type": "stream",
          "text": [
            "7.999999999999119\n"
          ],
          "name": "stdout"
        }
      ]
    },
    {
      "cell_type": "markdown",
      "metadata": {
        "id": "j0aypWrlIta0"
      },
      "source": [
        "# 기울기(Gradient)\r\n",
        "\r\n",
        "모든 편미분을 **벡터**로 정리한 것을 기울기(gradient)라고 한다."
      ]
    },
    {
      "cell_type": "code",
      "metadata": {
        "id": "4GEdXRiVGeQI"
      },
      "source": [
        "def numerical_gradient(f, x):\r\n",
        "  h = 1e-4    # 0.0001\r\n",
        "  grad = np.zeros_like(x)   # x와 형상이 같은 배열을 생성\r\n",
        "\r\n",
        "  for idx in range(x.size):\r\n",
        "    tmp_val = x[idx]\r\n",
        "\r\n",
        "    # f(x + h) 계산\r\n",
        "    x[idx] = tmp_val + h\r\n",
        "    fxh1 = f(x)\r\n",
        "\r\n",
        "    # f(x - h) 계산\r\n",
        "    x[idx] = tmp_val - h\r\n",
        "    fxh2 = f(x)\r\n",
        "\r\n",
        "    grad[idx] = (fxh1 - fxh2) / (2 * h)\r\n",
        "    x[idx] = tmp_val    # 값 복원\r\n",
        "\r\n",
        "  return grad"
      ],
      "execution_count": 9,
      "outputs": []
    },
    {
      "cell_type": "code",
      "metadata": {
        "colab": {
          "base_uri": "https://localhost:8080/"
        },
        "id": "t-0xGEzAKHFy",
        "outputId": "22434669-0f7c-4205-dcdc-65982cc5d4b7"
      },
      "source": [
        "print(numerical_gradient(function_2, np.array([3.0, 4.0])))\r\n",
        "print(numerical_gradient(function_2, np.array([0.0, 2.0])))\r\n",
        "print(numerical_gradient(function_2, np.array([3.0, 0.0])))"
      ],
      "execution_count": 10,
      "outputs": [
        {
          "output_type": "stream",
          "text": [
            "[6. 8.]\n",
            "[0. 4.]\n",
            "[6. 0.]\n"
          ],
          "name": "stdout"
        }
      ]
    },
    {
      "cell_type": "markdown",
      "metadata": {
        "id": "4SLrnkhZY9iP"
      },
      "source": [
        "기울기는 방향을 가진 벡터(화살표)로 그려진다. 이때 기울기의 결과에 마이너스를 붙인 벡터를 그려보면, 기울기가 가리키는 방향은 각 장소에서 **함수의 출력 값을 가장 크게 줄이는 방향**이다."
      ]
    },
    {
      "cell_type": "markdown",
      "metadata": {
        "id": "mSwn12PMfQXv"
      },
      "source": [
        "---\r\n",
        "\r\n",
        "# 경사법(경사 하강법)\r\n",
        "\r\n",
        "기울기를 이용해 함수의 최솟값을 찾는것이 경사법, **경사 하강법**이다. 경사법을 수식으로 나타내면 아래와 같다.\r\n",
        "$$x_0=x_0-\\eta\\frac{\\partial{f}}{\\partial{x_0}}\r\n",
        "\\\\x_1=x_1-\\eta\\frac{\\partial{f}}{\\partial{x_1}}$$\r\n",
        "\r\n",
        "여기서 $\\eta$(eta, 에타)는 갱신하는 양을 나타낸다. 이를 신경망에서는 **학습률(learning rate)**라고 한다. 학습률은 한 번의 학습으로 얼마나 학습을 진행하나, 즉 매개변수 값을 얼마나 갱신하느냐를 정하는 것이다.\r\n",
        "\r\n",
        "여기서 learning rate는 미리 특정 값으로 정해두는 **하이퍼파라미터(hyperparameter)**이다."
      ]
    },
    {
      "cell_type": "code",
      "metadata": {
        "id": "671ByepFhHoO"
      },
      "source": [
        "# 경사 하강법 구현\r\n",
        "def gradient_descent(f, init_x, lr=0.01, step_num=100):\r\n",
        "  x = init_x\r\n",
        "\r\n",
        "  for i in range(step_num):\r\n",
        "    grad = numerical_gradient(f, x)\r\n",
        "    x -= lr * grad\r\n",
        "    \r\n",
        "  return x"
      ],
      "execution_count": 11,
      "outputs": []
    },
    {
      "cell_type": "code",
      "metadata": {
        "colab": {
          "base_uri": "https://localhost:8080/"
        },
        "id": "NzKQ9zTHhdGp",
        "outputId": "92957fb2-3bc8-4683-a277-041483036ed8"
      },
      "source": [
        "# 경사 하강법으로 f(x_0, x_1) = x_0^2 + x_1^2 의 최솟값 구하기\r\n",
        "def function_2(x):\r\n",
        "  return x[0]**2 + x[1]**2\r\n",
        "\r\n",
        "init_x = np.array([-3.0, 4.0])\r\n",
        "print(gradient_descent(function_2,init_x=init_x, lr=0.1, step_num=100))"
      ],
      "execution_count": 12,
      "outputs": [
        {
          "output_type": "stream",
          "text": [
            "[-6.11110793e-10  8.14814391e-10]\n"
          ],
          "name": "stdout"
        }
      ]
    },
    {
      "cell_type": "markdown",
      "metadata": {
        "id": "UUaS822Lkj3G"
      },
      "source": [
        "최종 결과는 거의 (0, 0)에 가까운 결과이다.\r\n",
        "\r\n",
        "학습률은 너무 크거나 작지 않게 잘 조절하는 것이 중요하다. 학습률이 너무 크면 큰 값으로 발산해버리고, 반대로 너무 작으면 거의 갱신되지 않은 채 끝나버린다."
      ]
    },
    {
      "cell_type": "code",
      "metadata": {
        "colab": {
          "base_uri": "https://localhost:8080/"
        },
        "id": "keh0HN1OkL9u",
        "outputId": "ff59ab0b-d839-4d1b-b6f3-5dca71a9d598"
      },
      "source": [
        "# 학습률이 너무 큰 예 : lr = 10.0\r\n",
        "init_x = np.array([-3.0, 4.0])\r\n",
        "print(gradient_descent(function_2, init_x=init_x, lr=10.0, step_num=100))"
      ],
      "execution_count": 13,
      "outputs": [
        {
          "output_type": "stream",
          "text": [
            "[-2.58983747e+13 -1.29524862e+12]\n"
          ],
          "name": "stdout"
        }
      ]
    },
    {
      "cell_type": "code",
      "metadata": {
        "colab": {
          "base_uri": "https://localhost:8080/"
        },
        "id": "vS-fXi50k86k",
        "outputId": "02aeebc4-8b37-46e4-f409-20c35427a398"
      },
      "source": [
        "# 학습률이 너무 작은 예 : lr = 1e-10\r\n",
        "init_x = np.array([-3.0, 4.0])\r\n",
        "print(gradient_descent(function_2, init_x=init_x, lr=1e-10, step_num=100))"
      ],
      "execution_count": 14,
      "outputs": [
        {
          "output_type": "stream",
          "text": [
            "[-2.99999994  3.99999992]\n"
          ],
          "name": "stdout"
        }
      ]
    },
    {
      "cell_type": "markdown",
      "metadata": {
        "id": "eQyn8FDLmFYI"
      },
      "source": [
        "신경망 학습에서도 기울기를 구해야 한다. 여기서의 기울기는 가중치 매개변수에 대한 손실 함수의 기울기이다. 가중치가 $\\mathbf{W}$, 손실 함수가 $L$인 신경망에서 경사(기울기)는 $\\frac{\\partial{L}}{\\partial{\\mathbf{W}}}$로 나타낼 수 있다.\r\n",
        "\r\n",
        "$$\\mathbf{W}=\\begin{pmatrix}\r\n",
        "w_{11} &w_{12}  &w_{13} \\\\ \r\n",
        "w_{21} &w_{22}  &w_{23} \r\n",
        "\\end{pmatrix}\r\n",
        "\\\\\\frac{\\partial{L}}{\\partial{\\mathbf{W}}}=\\begin{pmatrix}\r\n",
        "\\frac{\\partial{L}}{\\partial{\\mathbf{W_{11}}}} &\\frac{\\partial{L}}{\\partial{\\mathbf{W_{12}}}}  &\\frac{\\partial{L}}{\\partial{\\mathbf{W_{13}}}} \\\\ \r\n",
        "\\frac{\\partial{L}}{\\partial{\\mathbf{W_{21}}}} &\\frac{\\partial{L}}{\\partial{\\mathbf{W_{22}}}}  &\\frac{\\partial{L}}{\\partial{\\mathbf{W_{23}}}} \r\n",
        "\\end{pmatrix}$$\r\n",
        "\r\n",
        "여기서 각 원소는 각각의 원소에 관한 편미분이다. 예를 들어 1행 1열의 $\\frac{\\partial{L}}{\\partial{\\mathbf{W_{11}}}}$은 $w_{11}$을 조금 변경했을 때 손실 함수 $L$이 얼마나 변화하느냐를 나타냅니다. 이때 중요한 것은 $\\mathbf{W}$와 $\\frac{\\partial{L}}{\\partial{\\mathbf{W}}}$의 형상이 모두 같다는 것이다."
      ]
    },
    {
      "cell_type": "code",
      "metadata": {
        "id": "NoDz63jFlNvU"
      },
      "source": [
        "# simpleNet 클래스 구현\r\n",
        "import sys, os\r\n",
        "sys.path.append(os.pardir)\r\n",
        "from functions import softmax, cross_entropy_error\r\n",
        "from gradient import numerical_gradient\r\n",
        "\r\n",
        "class simpleNet:\r\n",
        "  def __init__(self):\r\n",
        "    self.W = np.random.randn(2, 3)\r\n",
        "\r\n",
        "  def predict(self, x):\r\n",
        "    return np.dot(x, self.W)\r\n",
        "\r\n",
        "  def loss(self, x, t):\r\n",
        "    z = self.predict(x)\r\n",
        "    y = softmax(z)\r\n",
        "    loss = cross_entropy_error(y, t)\r\n",
        "\r\n",
        "    return loss"
      ],
      "execution_count": 15,
      "outputs": []
    },
    {
      "cell_type": "code",
      "metadata": {
        "colab": {
          "base_uri": "https://localhost:8080/"
        },
        "id": "ZiSTCizTpVw1",
        "outputId": "21ac3f50-3389-4d27-edaa-2d325e365c49"
      },
      "source": [
        "net = simpleNet()\r\n",
        "print(net.W)    # 가중치 매개변수\r\n",
        "\r\n",
        "x = np.array([0.6, 0.9])\r\n",
        "p = net.predict(x)\r\n",
        "print(p)\r\n",
        "\r\n",
        "print(np.argmax(p))    # 최댓값의 인덱스\r\n",
        "\r\n",
        "t = np.array([0, 0, 1])   # 정답 레이블\r\n",
        "net.loss(x, t)"
      ],
      "execution_count": 16,
      "outputs": [
        {
          "output_type": "stream",
          "text": [
            "[[-1.12071411 -0.63606457  0.07759607]\n",
            " [ 1.39299078  0.80447731 -0.50590284]]\n",
            "[ 0.58126323  0.34239084 -0.40875492]\n",
            "0\n"
          ],
          "name": "stdout"
        },
        {
          "output_type": "execute_result",
          "data": {
            "text/plain": [
              "1.7597022354288034"
            ]
          },
          "metadata": {
            "tags": []
          },
          "execution_count": 16
        }
      ]
    },
    {
      "cell_type": "code",
      "metadata": {
        "colab": {
          "base_uri": "https://localhost:8080/"
        },
        "id": "_AKeb4YxpbOi",
        "outputId": "94d402a2-15cf-4ce3-a5ce-fd07b0151890"
      },
      "source": [
        "def f(W):\r\n",
        "  return net.loss(x, t)\r\n",
        "\r\n",
        "dW = numerical_gradient(f, net.W)\r\n",
        "print(dW)"
      ],
      "execution_count": 17,
      "outputs": [
        {
          "output_type": "stream",
          "text": [
            "[[ 0.27789529  0.21884682 -0.49674211]\n",
            " [ 0.41684294  0.32827022 -0.74511317]]\n"
          ],
          "name": "stdout"
        }
      ]
    },
    {
      "cell_type": "code",
      "metadata": {
        "colab": {
          "base_uri": "https://localhost:8080/"
        },
        "id": "ZcVyMDKpqv_Z",
        "outputId": "dc47e4b4-f131-4af6-c6f9-3797f0c8991c"
      },
      "source": [
        "f = lambda w: net.loss(x, t)\r\n",
        "\r\n",
        "dW = numerical_gradient(f, net.W)\r\n",
        "print(dW)"
      ],
      "execution_count": 18,
      "outputs": [
        {
          "output_type": "stream",
          "text": [
            "[[ 0.27789529  0.21884682 -0.49674211]\n",
            " [ 0.41684294  0.32827022 -0.74511317]]\n"
          ],
          "name": "stdout"
        }
      ]
    },
    {
      "cell_type": "code",
      "metadata": {
        "id": "sZEgBx3OrgJT"
      },
      "source": [
        ""
      ],
      "execution_count": 18,
      "outputs": []
    }
  ]
}