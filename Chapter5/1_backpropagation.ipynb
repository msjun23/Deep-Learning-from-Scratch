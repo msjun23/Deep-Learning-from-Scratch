{
  "nbformat": 4,
  "nbformat_minor": 0,
  "metadata": {
    "colab": {
      "name": "1_backpropagation.ipynb",
      "provenance": [],
      "collapsed_sections": [],
      "authorship_tag": "ABX9TyMvbraHeJ4Fm/p4C4JidN6x",
      "include_colab_link": true
    },
    "kernelspec": {
      "name": "python3",
      "display_name": "Python 3"
    }
  },
  "cells": [
    {
      "cell_type": "markdown",
      "metadata": {
        "id": "view-in-github",
        "colab_type": "text"
      },
      "source": [
        "<a href=\"https://colab.research.google.com/github/msjun23/Deep-Learning-from-Scratch/blob/main/Chapter5/1_backpropagation.ipynb\" target=\"_parent\"><img src=\"https://colab.research.google.com/assets/colab-badge.svg\" alt=\"Open In Colab\"/></a>"
      ]
    },
    {
      "cell_type": "markdown",
      "metadata": {
        "id": "j21uRzvdPhA0"
      },
      "source": [
        "# 계산 그래프\r\n",
        "\r\n",
        "계산의 진행 과정을 최소의 단위로 나눠 **노드**(node)와 **에지**(edge)로 표현할 수 있다. 이를 계산 그래프(computational graph)라고 한다. 계산 그래프를 따라 진행하는 것을 **순전파**(foward propagation), 반대 방향으로 진행하는 것을 **역전파**(backward propagation)라고 한다.\r\n",
        "\r\n",
        "계산 그래프에서 역전파를 거칠 때 둘 이상의 함수를 거칠때는 **연쇄법칙**을 적용할 수 있다."
      ]
    },
    {
      "cell_type": "code",
      "metadata": {
        "id": "K92hI7SeOPiv"
      },
      "source": [
        "# 곱셈 계층 클래스 구현\r\n",
        "class MulLayer:\r\n",
        "  def __init__(self):\r\n",
        "    self.x = None\r\n",
        "    self.y = None\r\n",
        "\r\n",
        "  def forward(self, x, y):\r\n",
        "    self.x = x\r\n",
        "    self.y = y\r\n",
        "    out = x * y\r\n",
        "\r\n",
        "    return out\r\n",
        "\r\n",
        "  def backward(self, dout):\r\n",
        "    dx = dout * self.y    # x와 y를 바꾼다.\r\n",
        "    dy = dout * self.x\r\n",
        "\r\n",
        "    return dx, dy"
      ],
      "execution_count": 1,
      "outputs": []
    },
    {
      "cell_type": "code",
      "metadata": {
        "colab": {
          "base_uri": "https://localhost:8080/"
        },
        "id": "hD3_Ujc1RKkk",
        "outputId": "6b26de52-a248-4075-95dc-592240dd8051"
      },
      "source": [
        "# MulLayer를 사용하여 순전파 구현\r\n",
        "apple = 100\r\n",
        "apple_num = 2\r\n",
        "tax = 1.1\r\n",
        "\r\n",
        "# 계층들\r\n",
        "mul_apple_layer = MulLayer()\r\n",
        "mul_tax_layer = MulLayer()\r\n",
        "\r\n",
        "# 순전파\r\n",
        "apple_price = mul_apple_layer.forward(apple, apple_num)\r\n",
        "price = mul_tax_layer.forward(apple_price, tax)\r\n",
        "\r\n",
        "print(price)    # 220"
      ],
      "execution_count": 2,
      "outputs": [
        {
          "output_type": "stream",
          "text": [
            "220.00000000000003\n"
          ],
          "name": "stdout"
        }
      ]
    },
    {
      "cell_type": "code",
      "metadata": {
        "colab": {
          "base_uri": "https://localhost:8080/"
        },
        "id": "BDctAM_eSlv0",
        "outputId": "958306cd-7581-472b-8c48-dcee777305f5"
      },
      "source": [
        "# 역전파\r\n",
        "dprice = 1\r\n",
        "dapple_price, dtax = mul_tax_layer.backward(dprice)\r\n",
        "dapple, dapple_num = mul_apple_layer.backward(dapple_price)\r\n",
        "\r\n",
        "print(dapple, dapple_num, dtax)   # 2.2, 110, 200"
      ],
      "execution_count": 3,
      "outputs": [
        {
          "output_type": "stream",
          "text": [
            "2.2 110.00000000000001 200\n"
          ],
          "name": "stdout"
        }
      ]
    },
    {
      "cell_type": "code",
      "metadata": {
        "id": "GDcnFrsVTHRo"
      },
      "source": [
        "# 덧셈 계층 클래스 구현\r\n",
        "class AddLayer:\r\n",
        "  def __init__(self):\r\n",
        "    pass\r\n",
        "\r\n",
        "  def forward(self, x, y):\r\n",
        "    out = x + y\r\n",
        "    return out\r\n",
        "\r\n",
        "  def backward(self, dout):\r\n",
        "    dx = dout * 1\r\n",
        "    dy = dout * 1\r\n",
        "\r\n",
        "    return dx, dy"
      ],
      "execution_count": 4,
      "outputs": []
    },
    {
      "cell_type": "code",
      "metadata": {
        "colab": {
          "base_uri": "https://localhost:8080/"
        },
        "id": "aeBBbtISVUEn",
        "outputId": "01a683d3-5b78-45e3-e66e-76b00a2c7904"
      },
      "source": [
        "# 사과 2개 귤 3개 구입 계산 그래프 구현\r\n",
        "apple = 100\r\n",
        "aplle_num = 2\r\n",
        "orange = 150\r\n",
        "orange_num = 3\r\n",
        "tax = 1.1\r\n",
        "\r\n",
        "# 계층들\r\n",
        "mul_apple_layer = MulLayer()\r\n",
        "mul_orange_layer = MulLayer()\r\n",
        "add_apple_orange_layer = AddLayer()\r\n",
        "mul_tax_layer = MulLayer()\r\n",
        "\r\n",
        "# 순전파\r\n",
        "apple_price = mul_apple_layer.forward(apple, apple_num)\r\n",
        "orange_price = mul_orange_layer.forward(orange, orange_num)\r\n",
        "all_price = add_apple_orange_layer.forward(apple_price, orange_price)\r\n",
        "price = mul_tax_layer.forward(all_price, tax)\r\n",
        "\r\n",
        "# 역전파\r\n",
        "dprice = 1\r\n",
        "dall_price, dtax = mul_tax_layer.backward(dprice)\r\n",
        "dapple_price, dorange_price = add_apple_orange_layer.backward(dall_price)\r\n",
        "dorange, dorange_num = mul_orange_layer.backward(dorange_price)\r\n",
        "dapple, dapple_num = mul_apple_layer.backward(dapple_price)\r\n",
        "\r\n",
        "print(price)    # 715\r\n",
        "print(dapple_num, dapple, dorange, dorange_num, dtax)   # 110, 2.2, 3.3, 165, 650\r\n"
      ],
      "execution_count": 5,
      "outputs": [
        {
          "output_type": "stream",
          "text": [
            "715.0000000000001\n",
            "110.00000000000001 2.2 3.3000000000000003 165.0 650\n"
          ],
          "name": "stdout"
        }
      ]
    },
    {
      "cell_type": "code",
      "metadata": {
        "id": "cOUP_IlXX8MV"
      },
      "source": [
        ""
      ],
      "execution_count": 5,
      "outputs": []
    }
  ]
}