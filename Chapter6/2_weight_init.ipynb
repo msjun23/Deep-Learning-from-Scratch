{
  "nbformat": 4,
  "nbformat_minor": 0,
  "metadata": {
    "colab": {
      "name": "2_weight_init.ipynb",
      "provenance": [],
      "collapsed_sections": [],
      "authorship_tag": "ABX9TyNTf7r9tM0vCsIHWOUyuewG",
      "include_colab_link": true
    },
    "kernelspec": {
      "name": "python3",
      "display_name": "Python 3"
    }
  },
  "cells": [
    {
      "cell_type": "markdown",
      "metadata": {
        "id": "view-in-github",
        "colab_type": "text"
      },
      "source": [
        "<a href=\"https://colab.research.google.com/github/msjun23/Deep-Learning-from-Scratch/blob/main/Chapter6/2_weight_init.ipynb\" target=\"_parent\"><img src=\"https://colab.research.google.com/assets/colab-badge.svg\" alt=\"Open In Colab\"/></a>"
      ]
    },
    {
      "cell_type": "markdown",
      "metadata": {
        "id": "CVJxbhVt4YrP"
      },
      "source": [
        "가중치 초기화는 랜덤으로 설정하여야 한다."
      ]
    },
    {
      "cell_type": "code",
      "metadata": {
        "id": "KA9ePomt3tnh"
      },
      "source": [
        "# 가중치 초기값에 따라 은닉층 활성화 값들이 어떻게 변하는지 확인\r\n",
        "import numpy as np\r\n",
        "import matplotlib.pyplot as plt\r\n",
        "\r\n",
        "def sigmoid(x):\r\n",
        "  return 1 / (1 + np.exp(-x))\r\n",
        "\r\n",
        "x = np.random.randn(1000, 100)    # 1000개의 데이터\r\n",
        "node_num = 100    # 각 은닉층의 노드(뉴런) 수\r\n",
        "hidden_layer_size = 5   # 은닉층이 5개\r\n",
        "activations = {}\r\n",
        "\r\n",
        "for i in range(hidden_layer_size):\r\n",
        "  if i != 0:\r\n",
        "    x = activations[i - 1]\r\n",
        "\r\n",
        "  w = np.random.randn(node_num, node_num) * 1\r\n",
        "\r\n",
        "  a = np.dot(x, w)\r\n",
        "  z = sigmoid(a)\r\n",
        "  activations[i] = z"
      ],
      "execution_count": 1,
      "outputs": []
    },
    {
      "cell_type": "code",
      "metadata": {
        "colab": {
          "base_uri": "https://localhost:8080/",
          "height": 281
        },
        "id": "ncTGwuki6h9L",
        "outputId": "078d08ea-301d-471a-e7f5-2fcce9a8170b"
      },
      "source": [
        "# 각 층의 활성화값 데이터를 히스토그램으로 확인\r\n",
        "for i, a in activations.items():\r\n",
        "  plt.subplot(1, len(activations), i + 1)\r\n",
        "  plt.title(str(i+1) + '_layer')\r\n",
        "  plt.hist(a.flatten(), 30, range=(0, 1))\r\n",
        "\r\n",
        "plt.show()"
      ],
      "execution_count": 2,
      "outputs": [
        {
          "output_type": "display_data",
          "data": {
            "image/png": "[encoded data removed]",
            "text/plain": [
              "<Figure size 432x288 with 5 Axes>"
            ]
          },
          "metadata": {
            "tags": [],
            "needs_background": "light"
          }
        }
      ]
    },
    {
      "cell_type": "markdown",
      "metadata": {
        "id": "kst0c92K_-6Q"
      },
      "source": [
        "시스모이드 함수의 특징에 의해 출력이 0 / 1에 가까워지자 그 미분은 0에 가까워진다. 그래서 데이터가 0과 1에 치우쳐 분포하게 되면, 역전파의 기울기 값이 점점 작아지다가 사라진다. 이것을 기울기 소실(gradient vanishing)이라고 한다."
      ]
    },
    {
      "cell_type": "markdown",
      "metadata": {
        "id": "2LAZHQOU_1sf"
      },
      "source": [
        "---"
      ]
    },
    {
      "cell_type": "code",
      "metadata": {
        "id": "KG7LK3Z17HlV"
      },
      "source": [
        "# 가중치 초기값에 따라 은닉층 활성화 값들이 어떻게 변하는지 확인\r\n",
        "import numpy as np\r\n",
        "import matplotlib.pyplot as plt\r\n",
        "\r\n",
        "def sigmoid(x):\r\n",
        "  return 1 / (1 + np.exp(-x))\r\n",
        "\r\n",
        "x = np.random.randn(1000, 100)    # 1000개의 데이터\r\n",
        "node_num = 100    # 각 은닉층의 노드(뉴런) 수\r\n",
        "hidden_layer_size = 5   # 은닉층이 5개\r\n",
        "activations = {}\r\n",
        "\r\n",
        "for i in range(hidden_layer_size):\r\n",
        "  if i != 0:\r\n",
        "    x = activations[i - 1]\r\n",
        "\r\n",
        "  w = np.random.randn(node_num, node_num) * 0.01\r\n",
        "\r\n",
        "  a = np.dot(x, w)\r\n",
        "  z = sigmoid(a)\r\n",
        "  activations[i] = z"
      ],
      "execution_count": 3,
      "outputs": []
    },
    {
      "cell_type": "code",
      "metadata": {
        "colab": {
          "base_uri": "https://localhost:8080/",
          "height": 281
        },
        "id": "bw_ZXtwC_5iX",
        "outputId": "b135997b-e8e9-4976-908e-eb2114822081"
      },
      "source": [
        "# 각 층의 활성화값 데이터를 히스토그램으로 확인\r\n",
        "for i, a in activations.items():\r\n",
        "  plt.subplot(1, len(activations), i + 1)\r\n",
        "  plt.title(str(i+1) + '_layer')\r\n",
        "  plt.hist(a.flatten(), 30, range=(0, 1))\r\n",
        "\r\n",
        "plt.show()"
      ],
      "execution_count": 4,
      "outputs": [
        {
          "output_type": "display_data",
          "data": {
            "image/png": "[encoded data removed]",
            "text/plain": [
              "<Figure size 432x288 with 5 Axes>"
            ]
          },
          "metadata": {
            "tags": [],
            "needs_background": "light"
          }
        }
      ]
    },
    {
      "cell_type": "markdown",
      "metadata": {
        "id": "gPxjcNJcBRdr"
      },
      "source": [
        "이번에는 각 데이터가 0.5 부근에 집중 되었다. 기울기 소실 문제는 일어나지 않지만, 활성화값들이 치우쳤다는 것은 표현력 관점에서 문제가 된다. 다수의 뉴런이 거의 같은 값을 출력한다는 것은 뉴런을 여러 개 둔 의미가 없다는 것이다."
      ]
    },
    {
      "cell_type": "markdown",
      "metadata": {
        "id": "-8cxONlKBsya"
      },
      "source": [
        "---"
      ]
    },
    {
      "cell_type": "markdown",
      "metadata": {
        "id": "JlsxYyQQBt1U"
      },
      "source": [
        "# Xavier 초깃값\r\n",
        "\r\n",
        "Xavier 초깃값은 일반적인 딥러닝 프레임워크들이 표준적으로 이용하고 있다. 앞 계층의 노드가 $n$개라면 표준편차가 $\\frac{1}{\\sqrt n}$인 정규분포로 초깃값을 초기화하면 된다."
      ]
    },
    {
      "cell_type": "code",
      "metadata": {
        "id": "WzGdnelzBr6g"
      },
      "source": [
        "# 가중치 초기값에 따라 은닉층 활성화 값들이 어떻게 변하는지 확인\r\n",
        "import numpy as np\r\n",
        "import matplotlib.pyplot as plt\r\n",
        "\r\n",
        "def sigmoid(x):\r\n",
        "  return 1 / (1 + np.exp(-x))\r\n",
        "\r\n",
        "x = np.random.randn(1000, 100)    # 1000개의 데이터\r\n",
        "node_num = 100    # 각 은닉층의 노드(뉴런) 수\r\n",
        "hidden_layer_size = 5   # 은닉층이 5개\r\n",
        "activations = {}\r\n",
        "\r\n",
        "for i in range(hidden_layer_size):\r\n",
        "  if i != 0:\r\n",
        "    x = activations[i - 1]\r\n",
        "\r\n",
        "  w = np.random.randn(node_num, node_num) / np.sqrt(node_num)   # 모든 층의 노드가 100개라고 단순화\r\n",
        "\r\n",
        "  a = np.dot(x, w)\r\n",
        "  z = sigmoid(a)\r\n",
        "  activations[i] = z"
      ],
      "execution_count": 5,
      "outputs": []
    },
    {
      "cell_type": "code",
      "metadata": {
        "colab": {
          "base_uri": "https://localhost:8080/",
          "height": 281
        },
        "id": "J46R5LgEC1XE",
        "outputId": "74fcbce4-452b-4d2d-925b-d652ffaf67e1"
      },
      "source": [
        "# 각 층의 활성화값 데이터를 히스토그램으로 확인\r\n",
        "for i, a in activations.items():\r\n",
        "  plt.subplot(1, len(activations), i + 1)\r\n",
        "  plt.title(str(i+1) + '_layer')\r\n",
        "  plt.hist(a.flatten(), 30, range=(0, 1))\r\n",
        "\r\n",
        "plt.show()"
      ],
      "execution_count": 6,
      "outputs": [
        {
          "output_type": "display_data",
          "data": {
            "image/png": "[encoded data removed]",
            "text/plain": [
              "<Figure size 432x288 with 5 Axes>"
            ]
          },
          "metadata": {
            "tags": [],
            "needs_background": "light"
          }
        }
      ]
    },
    {
      "cell_type": "markdown",
      "metadata": {
        "id": "S-2LK96WDH1K"
      },
      "source": [
        "# ReLU를 사용할 때의 가중치 초기화\r\n",
        "\r\n",
        "Xavier 초깃값은 활성화 함수가 선형인 것을 전제로 하였다. sigmoid나 tanh 함수는 좌우 대칭으로 중앙 부근에서 선형인 함수로 볼 수 있다.\r\n",
        "\r\n",
        "**ReLU** 함수를 이용할 때는 ReLU에 특화된 **He 초깃값**을 사용한다. He 초깃값은 앞 계층의 노드가 $n$개일 때, 표준편차가 $\\sqrt\\frac{2}{n}$인 정규분포를 사용한다. ReLU는 음수의 영역이 0이기 때문에 더 넓게 분포시키기 위해 2배의 계수가 필요하다고 직관적으로 해석할 수 있다. "
      ]
    },
    {
      "cell_type": "markdown",
      "metadata": {
        "id": "n3NVi1NWE9PV"
      },
      "source": [
        "결론 : \r\n",
        "- 활성화 함수로 ReLU -> He 초깃값\r\n",
        "- 활성화 함수로 sigmoid, tanh 같은 S자 함수 -> Xavier 초깃값"
      ]
    },
    {
      "cell_type": "code",
      "metadata": {
        "id": "_E6WSUWbC1tN"
      },
      "source": [
        ""
      ],
      "execution_count": 6,
      "outputs": []
    }
  ]
}