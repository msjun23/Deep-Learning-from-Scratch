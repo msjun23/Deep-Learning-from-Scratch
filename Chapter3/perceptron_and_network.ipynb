{
  "nbformat": 4,
  "nbformat_minor": 0,
  "metadata": {
    "colab": {
      "name": "perceptron_and_network.ipynb",
      "provenance": [],
      "collapsed_sections": [],
      "authorship_tag": "ABX9TyNeA0Vu18Jn+awbImXcd0F/",
      "include_colab_link": true
    },
    "kernelspec": {
      "name": "python3",
      "display_name": "Python 3"
    }
  },
  "cells": [
    {
      "cell_type": "markdown",
      "metadata": {
        "id": "view-in-github",
        "colab_type": "text"
      },
      "source": [
        "<a href=\"https://colab.research.google.com/github/msjun23/Deep-Learning-from-Scratch/blob/main/Chapter3/perceptron_and_network.ipynb\" target=\"_parent\"><img src=\"https://colab.research.google.com/assets/colab-badge.svg\" alt=\"Open In Colab\"/></a>"
      ]
    },
    {
      "cell_type": "markdown",
      "metadata": {
        "id": "TYOCRewrpW-y"
      },
      "source": [
        "#퍼셉트론\r\n",
        "- 복잡한 함수도 표현 가능(다층 퍼셉트론)\r\n",
        "- 가중치 설정(원하는 결과를 출력하기 위해)하는 작업을 수동으로 해야함\r\n",
        "\r\n",
        "#**신경망**\r\n",
        "- 가중치 매개변수의 적절한 값을 데이터로부터 자동으로 학습\r\n",
        "\r\n",
        "1. 이번 장에서는 신경망의 개요를 설명\r\n",
        "2. 신경망이 입력 데이터가 무엇인지 식별하는 처리 과정 설명\r\n",
        "\r\n",
        "신경망\r\n",
        "\r\n",
        "입력층 -> 은닉층 -> 출력층\r\n",
        "\r\n",
        "입력층부터 0층 시작, 출력층은 카운트 안함. 실제로 가중치를 갖는 층의 개수는 입력층, 은닉층, 출력층의 합계에서 1을 뺀 값.\r\n",
        "\r\n",
        "- 입력 $x_1, x_2$\r\n",
        "- 가중치 $w_1, w_2$\r\n",
        "- 편향 $b$\r\n",
        "- 출력 $y$\r\n",
        "\r\n",
        "위의 요소로 구성되는 퍼셉트론에서 조건 분기의 동작을 하나의 함수인 $h(x)$로 나타내면 아래와 같다.\r\n",
        "\r\n",
        "$y=h(b+w_1x_1+w_2x_2)\\\\\r\n",
        "h(x)=\\left\\{\\begin{matrix}\r\n",
        "0\\;\\;(x\\leq 0)\\\\ \r\n",
        "1\\;\\;(x> 0)\r\n",
        "\\end{matrix}\\right.$\r\n"
      ]
    },
    {
      "cell_type": "markdown",
      "metadata": {
        "id": "copCwl1ExNeE"
      },
      "source": [
        "#활성화 함수\r\n",
        "\r\n",
        "위와 같이 입력 신호의 총합을 출력 신호로 변환한는 함수를 일반적으로 **활성화 함수**라고 한다. 활성화 함수는 입력 신호의 총합이 활성화를 일으키는지 정하는 역할을 한다.\r\n",
        "\r\n",
        "$a=b+w_1x_1+w_2x_2\\\\\r\n",
        "y=h(a)$\r\n",
        "\r\n",
        "가중치가 달린 입력신호와 편향의 총합을 $a$라고 하고, 이를 함수 $h()$의 입력으로 사용해 $y$를 출력한다."
      ]
    },
    {
      "cell_type": "code",
      "metadata": {
        "id": "Fz9oolNGm_g5"
      },
      "source": [
        "# 계단 함수 구현하기\r\n",
        "def step_function(x):\r\n",
        "  if x > 0:\r\n",
        "    return 1\r\n",
        "  else:\r\n",
        "    return 0\r\n",
        "\r\n",
        "# 이 구현은 단순하지만, 인수 x는 실수(부동소수점)만 받아들인다.\r\n",
        "# 넘파일 배열이 가능하도록 수정한다."
      ],
      "execution_count": 1,
      "outputs": []
    },
    {
      "cell_type": "code",
      "metadata": {
        "id": "9GO-Guc103Yf"
      },
      "source": [
        "# 넘파이 배열을 입력으로 사용하는 계단 함수 구현하기\r\n",
        "def step_function(x):\r\n",
        "  y = x > 0\r\n",
        "  return y.astype(np.int)"
      ],
      "execution_count": 2,
      "outputs": []
    },
    {
      "cell_type": "code",
      "metadata": {
        "colab": {
          "base_uri": "https://localhost:8080/"
        },
        "id": "MTJ0Di8r1IoL",
        "outputId": "59b3dbc9-7383-4546-929c-80b8abaa6f8a"
      },
      "source": [
        "import numpy as np\r\n",
        "\r\n",
        "x = np.array([-1.0, 1.0, 2.0])\r\n",
        "print(x)\r\n",
        "y = x > 0   # array([Fasle, True, Ture], dtype=bool)\r\n",
        "print(y)\r\n",
        "\r\n",
        "y = y.astype(np.int)    # astype 함수를 이용해 배열 y의 원소를 bool에서 int형으로 변환\r\n",
        "print(y)"
      ],
      "execution_count": 3,
      "outputs": [
        {
          "output_type": "stream",
          "text": [
            "[-1.  1.  2.]\n",
            "[False  True  True]\n",
            "[0 1 1]\n"
          ],
          "name": "stdout"
        }
      ]
    },
    {
      "cell_type": "code",
      "metadata": {
        "colab": {
          "base_uri": "https://localhost:8080/",
          "height": 265
        },
        "id": "btvSoY051Rcj",
        "outputId": "e8419c7b-0f80-4e98-9d74-e6e220b52434"
      },
      "source": [
        "# 앞서 정의한 계단 함수를 matplotlib 라이브러리를 이요해 그림\r\n",
        "import matplotlib.pyplot as plt\r\n",
        "\r\n",
        "def step_function(x):\r\n",
        "  return np.array(x > 0, dtype = np.int)\r\n",
        "\r\n",
        "x = np.arange(-5.0, 5.0, 0.1)    # -5.0부터 5.0까지 0.1 간격으로 넘파이 배열 생성\r\n",
        "y = step_function(x)\r\n",
        "plt.plot(x, y)\r\n",
        "plt.ylim(-0.1, 1.1)   # y축 범위 지정\r\n",
        "plt.show()"
      ],
      "execution_count": 4,
      "outputs": [
        {
          "output_type": "display_data",
          "data": {
            "image/png": "[encoded data removed]",
            "text/plain": [
              "<Figure size 432x288 with 1 Axes>"
            ]
          },
          "metadata": {
            "tags": [],
            "needs_background": "light"
          }
        }
      ]
    },
    {
      "cell_type": "code",
      "metadata": {
        "id": "BVwOQFIv24zg"
      },
      "source": [
        "# sigmoid 함수 구현하기\r\n",
        "def sigmoid(x):\r\n",
        "  return 1 / (1 + np.exp(-x))"
      ],
      "execution_count": 5,
      "outputs": []
    },
    {
      "cell_type": "code",
      "metadata": {
        "colab": {
          "base_uri": "https://localhost:8080/"
        },
        "id": "gqQJ8T1b3Il_",
        "outputId": "c853ffbc-7433-4a14-a819-73bf9c64379c"
      },
      "source": [
        "x = np.array([-1.0, 1.0, 2.0])\r\n",
        "print(sigmoid(x))"
      ],
      "execution_count": 6,
      "outputs": [
        {
          "output_type": "stream",
          "text": [
            "[0.26894142 0.73105858 0.88079708]\n"
          ],
          "name": "stdout"
        }
      ]
    },
    {
      "cell_type": "code",
      "metadata": {
        "colab": {
          "base_uri": "https://localhost:8080/",
          "height": 265
        },
        "id": "jpRonzab3OGm",
        "outputId": "b4a4f88a-5fc7-4a1d-acdf-36d5589c09fb"
      },
      "source": [
        "x = np.arange(-5.0, 5.0, 0.1)\r\n",
        "y = sigmoid(x)\r\n",
        "plt.plot(x, y)\r\n",
        "plt.ylim(-0.1, 1.1)   # y축 범위 지정\r\n",
        "plt.show()"
      ],
      "execution_count": 7,
      "outputs": [
        {
          "output_type": "display_data",
          "data": {
            "image/png": "[encoded data removed]",
            "text/plain": [
              "<Figure size 432x288 with 1 Axes>"
            ]
          },
          "metadata": {
            "tags": [],
            "needs_background": "light"
          }
        }
      ]
    },
    {
      "cell_type": "code",
      "metadata": {
        "colab": {
          "base_uri": "https://localhost:8080/",
          "height": 265
        },
        "id": "QKnwRACf3ni1",
        "outputId": "a72ca9c6-f028-4119-a342-694900170c41"
      },
      "source": [
        "# 계단 함수와 sigmoid 함수 비교\r\n",
        "x = np.arange(-5.0, 5.0, 0.1)\r\n",
        "y1 = step_function(x)\r\n",
        "y2 = sigmoid(x)\r\n",
        "plt.plot(x, y1, linestyle = '--')\r\n",
        "plt.plot(x, y2)\r\n",
        "plt.ylim(-0.1, 1.1)   # y축 범위 지정\r\n",
        "plt.show()"
      ],
      "execution_count": 8,
      "outputs": [
        {
          "output_type": "display_data",
          "data": {
            "image/png": "[encoded data removed]",
            "text/plain": [
              "<Figure size 432x288 with 1 Axes>"
            ]
          },
          "metadata": {
            "tags": [],
            "needs_background": "light"
          }
        }
      ]
    },
    {
      "cell_type": "markdown",
      "metadata": {
        "id": "sisvuv2D4nNN"
      },
      "source": [
        "# 비선형 함수\r\n",
        "\r\n",
        "계단 함수과 sigmoid 함수 모두 비선형 함수이다.\r\n",
        "\r\n",
        "신경망에서는 활성화 함수로 **비선형 함수**만을 사용해야 한다."
      ]
    },
    {
      "cell_type": "markdown",
      "metadata": {
        "id": "uHhAbOLD5Z0M"
      },
      "source": [
        "#ReLU 함수\r\n",
        "\r\n",
        "최근에는 **ReLU**(Rectified Linear Unit)함수를 신경망에서 주로 사용한다. ReLU함수는 입력이 0을 넘으면 입력을 그대로 출력하고, 0이하이면 0을 출력한다. 수식으로는 다음과 같이 쓸 수 있다.\r\n",
        "\r\n",
        "$h(x)=\\left\\{\\begin{matrix}\r\n",
        "x\\;\\;(x> 0)\\\\ \r\n",
        "0\\;\\;(x\\leq 0)\r\n",
        "\\end{matrix}\\right.$"
      ]
    },
    {
      "cell_type": "code",
      "metadata": {
        "colab": {
          "base_uri": "https://localhost:8080/",
          "height": 265
        },
        "id": "bUNwCuH84NLO",
        "outputId": "64c087cb-6ae2-4e49-a7bd-fcf70795f85b"
      },
      "source": [
        "#ReLU 함수 구현하기\r\n",
        "def relu(x):\r\n",
        "  return np.maximum(0, x)\r\n",
        "\r\n",
        "x = np.arange(-5.0, 5.0, 0.1)\r\n",
        "y = relu(x)\r\n",
        "plt.plot(x, y)\r\n",
        "plt.show()\r\n"
      ],
      "execution_count": 9,
      "outputs": [
        {
          "output_type": "display_data",
          "data": {
            "image/png": "[encoded data removed]",
            "text/plain": [
              "<Figure size 432x288 with 1 Axes>"
            ]
          },
          "metadata": {
            "tags": [],
            "needs_background": "light"
          }
        }
      ]
    },
    {
      "cell_type": "code",
      "metadata": {
        "id": "EC4IVZum6mL4"
      },
      "source": [
        ""
      ],
      "execution_count": 9,
      "outputs": []
    }
  ]
}