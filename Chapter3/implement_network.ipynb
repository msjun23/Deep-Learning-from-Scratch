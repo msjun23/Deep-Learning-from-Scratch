{
  "nbformat": 4,
  "nbformat_minor": 0,
  "metadata": {
    "colab": {
      "name": "implement_network.ipynb",
      "provenance": [],
      "collapsed_sections": [],
      "toc_visible": true,
      "authorship_tag": "ABX9TyPbO3yMP1pPmtMxG1Kvg3Tu",
      "include_colab_link": true
    },
    "kernelspec": {
      "name": "python3",
      "display_name": "Python 3"
    }
  },
  "cells": [
    {
      "cell_type": "markdown",
      "metadata": {
        "id": "view-in-github",
        "colab_type": "text"
      },
      "source": [
        "<a href=\"https://colab.research.google.com/github/msjun23/Deep-Learning-from-Scratch/blob/main/Chapter3/implement_network.ipynb\" target=\"_parent\"><img src=\"https://colab.research.google.com/assets/colab-badge.svg\" alt=\"Open In Colab\"/></a>"
      ]
    },
    {
      "cell_type": "markdown",
      "metadata": {
        "id": "qHc2-Qc9EWYd"
      },
      "source": [
        "#3층 신경망 구현하기\r\n",
        "\r\n",
        "넘파이의 다차원 배열을 사용하여 신경망의 순방향 처리를 완성할 수 있다.\r\n",
        "\r\n",
        "0. 입력층(0층) : 2개\r\n",
        "1. 첫 번째 은닉층(1층) : 3개\r\n",
        "2. 두 번째 은닉층(2층) : 2개\r\n",
        "3. 출력층(3층) : 2개의 뉴런으로 구성\r\n",
        "\r\n",
        "- $w_{다음 층 번호, 앞 층 번호}^{(n 층으로 향하는)}$, $a_{m번째뉴런}^{(n층)}$\r\n",
        "- $w_{12}^{(1)}$ : 1층으로 향하는 가중치, 앞 층의 2번째 뉴런에서 다음 층의 1번째 뉴런으로\r\n",
        "- $a_1^{(1)}$ : 1층의 1번째 뉴런"
      ]
    },
    {
      "cell_type": "markdown",
      "metadata": {
        "id": "g0z7lCjuHWJ3"
      },
      "source": [
        "위의 표현을 이용해 $a_1^{(1)}$을 표현하면, 다음과 같다.\r\n",
        "$$a_1^{(1)}=w_{11}^{(1)}x_1+w_{12}^{(1)}x_2+b_1^{(1)}$$\r\n",
        "\r\n",
        "각 층의 모든 뉴런에 대해 위와 같이 표현할 수 없기에 행렬의 곱을 이용해 다음과 같이 간소화하여 표현할 수 있다.\r\n",
        "$$\\textbf{A}^{(1)}=\\textbf{XW}^{(1)}+\\textbf{B}^{(1)}$$\r\n",
        "\r\n",
        "이때 $\\textbf{A}^{(1)}, \\textbf{X}, \\textbf{B}^{(1)}, \\textbf{W}^{(1)}$는 다음과 같다.\r\n",
        "$$\\textbf{A}^{(1)}=(a_1^{(1)},a_2^{(2)},a_3^{(3)}), \\textbf{X}=(x_1,x_2), \\textbf{B}^{(1)}=(b_1^{(1)},b_2^{(2)},b_3^{(3)}), \\\\\\textbf{W}=\\begin{pmatrix}\r\n",
        "w_{11}^{(1)} &w_{21}^{(1)}  &w_{31}^{(1)} \\\\ \r\n",
        "w_{12}^{(1)} &w_{22}^{(1)}  &w_{32}^{(1)} \r\n",
        "\\end{pmatrix}$$"
      ]
    },
    {
      "cell_type": "markdown",
      "metadata": {
        "id": "KYXG1ibWKsc9"
      },
      "source": [
        "넘파이의 다차원 배열을 이용해 위의 식 $\\textbf{A}^{(1)}=\\textbf{XW}^{(1)}+\\textbf{B}^{(1)}$를 구현하면 다음과 같다."
      ]
    },
    {
      "cell_type": "code",
      "metadata": {
        "colab": {
          "base_uri": "https://localhost:8080/"
        },
        "id": "qfFxnINTDQ5D",
        "outputId": "a5e6f6f1-9b67-43ca-ac34-331acc521a45"
      },
      "source": [
        "# 입력층(0층)에서 1층으로 신호 전달 구현\r\n",
        "import numpy as np\r\n",
        "\r\n",
        "X = np.array([1.0, 0.5])\r\n",
        "W1 = np.array([[0.1, 0.3, 0.5], [0.2, 0.4, 0.6]])\r\n",
        "B1 = np.array([0.1, 0.2, 0.3])\r\n",
        "\r\n",
        "print(W1.shape)\r\n",
        "print(X.shape)\r\n",
        "print(B1.shape)\r\n",
        "\r\n",
        "A1 = np.dot(X, W1) + B1"
      ],
      "execution_count": 1,
      "outputs": [
        {
          "output_type": "stream",
          "text": [
            "(2, 3)\n",
            "(2,)\n",
            "(3,)\n"
          ],
          "name": "stdout"
        }
      ]
    },
    {
      "cell_type": "markdown",
      "metadata": {
        "id": "EqWh6tsTL33e"
      },
      "source": [
        "은닉층에서의 가중치의 합(가중 신호와 편향의 총합)을 $a$로 표기하고, 활성화 함수 $h()$로 변환된 신호를 $z$로 표현한다. 여기에서는 활성화 함수로 sigmoid 함수를 사용한다.\r\n",
        "\r\n",
        "1층의 각 뉴런에서 각 $a$를 입력으로 받아 활성화 함수를 거쳐 변환된 신호 $z$를 출력한다."
      ]
    },
    {
      "cell_type": "code",
      "metadata": {
        "colab": {
          "base_uri": "https://localhost:8080/"
        },
        "id": "SUsOva-SLtkx",
        "outputId": "a7cc6b93-4806-4a6f-8212-1ee25623ac57"
      },
      "source": [
        "def sigmoid(x):\r\n",
        "  return 1 / (1 + np.exp(-x))\r\n",
        "\r\n",
        "Z1 = sigmoid(A1)\r\n",
        "\r\n",
        "print(A1)\r\n",
        "print(Z1)"
      ],
      "execution_count": 2,
      "outputs": [
        {
          "output_type": "stream",
          "text": [
            "[0.3 0.7 1.1]\n",
            "[0.57444252 0.66818777 0.75026011]\n"
          ],
          "name": "stdout"
        }
      ]
    },
    {
      "cell_type": "code",
      "metadata": {
        "colab": {
          "base_uri": "https://localhost:8080/"
        },
        "id": "lyY_wBGaMr2y",
        "outputId": "b03b4589-1ef7-4599-ded0-076a9d59f533"
      },
      "source": [
        "# 1층에서 2층으로 신호 전달 구현\r\n",
        "W2 = np.array([[0.1, 0.4], [0.2, 0.5], [0.3, 0.6]])\r\n",
        "B2 = np.array([0.1, 0.2])\r\n",
        "\r\n",
        "print(Z1.shape)\r\n",
        "print(W2.shape)\r\n",
        "print(B2.shape)\r\n",
        "\r\n",
        "A2 = np.dot(Z1, W2) + B2\r\n",
        "Z2 = sigmoid(A2)"
      ],
      "execution_count": 3,
      "outputs": [
        {
          "output_type": "stream",
          "text": [
            "(3,)\n",
            "(3, 2)\n",
            "(2,)\n"
          ],
          "name": "stdout"
        }
      ]
    },
    {
      "cell_type": "code",
      "metadata": {
        "colab": {
          "base_uri": "https://localhost:8080/"
        },
        "id": "SJkoYkF9NP6I",
        "outputId": "0c87b5de-d752-4de6-a1e8-ee8c0e69ca69"
      },
      "source": [
        "# 2층에서 출력층으로 신호 전달 구현\r\n",
        "def identity_function(x):\r\n",
        "  return x\r\n",
        "\r\n",
        "W3 = np.array([[0.1, 0.3], [0.2, 0.4]])\r\n",
        "B3 = np.array([0.1, 0.2])\r\n",
        "\r\n",
        "A3 = np.dot(Z2, W3) + B3\r\n",
        "Y = identity_function(A3)   # Y = A3\r\n",
        "\r\n",
        "print(Y)"
      ],
      "execution_count": 4,
      "outputs": [
        {
          "output_type": "stream",
          "text": [
            "[0.31682708 0.69627909]\n"
          ],
          "name": "stdout"
        }
      ]
    },
    {
      "cell_type": "code",
      "metadata": {
        "id": "ifNfokxwQeCx",
        "colab": {
          "base_uri": "https://localhost:8080/"
        },
        "outputId": "b0af6816-7943-44cf-f448-8b69eb10c5cb"
      },
      "source": [
        "# 구현 정리\r\n",
        "def init_network():\r\n",
        "  network = {}    # dictionary\r\n",
        "  network['W1'] = np.array([[0.1, 0.3, 0.5], [0.2, 0.4, 0.6]])\r\n",
        "  network['b1'] = np.array([0.1, 0.2, 0.3])\r\n",
        "  network['W2'] = np.array([[0.1, 0.4], [0.2, 0.5], [0.3, 0.6]])\r\n",
        "  network['b2'] = np.array([0.1, 0.2])\r\n",
        "  network['W3'] = np.array([[0.1, 0.3], [0.2, 0.4]])\r\n",
        "  network['b3'] = np.array([0.1, 0.2])\r\n",
        "\r\n",
        "  return network\r\n",
        "\r\n",
        "def forward(network, x):\r\n",
        "  W1, W2, W3 = network['W1'], network['W2'], network['W3']\r\n",
        "  b1, b2, b3 = network['b1'], network['b2'], network['b3']\r\n",
        "\r\n",
        "  a1 = np.dot(x, W1) + b1\r\n",
        "  z1 = sigmoid(a1)\r\n",
        "  a2 = np.dot(z1, W2) + b2\r\n",
        "  z2 = sigmoid(a2)\r\n",
        "  a3 = np.dot(z2, W3) + b3\r\n",
        "  y = identity_function(a3)\r\n",
        "\r\n",
        "  return y\r\n",
        "\r\n",
        "network = init_network()\r\n",
        "x = np.array([1.0, 0.5])\r\n",
        "y = forward(network, x)\r\n",
        "print(y)"
      ],
      "execution_count": 5,
      "outputs": [
        {
          "output_type": "stream",
          "text": [
            "[0.31682708 0.69627909]\n"
          ],
          "name": "stdout"
        }
      ]
    },
    {
      "cell_type": "code",
      "metadata": {
        "id": "vLGEkocZnA1x"
      },
      "source": [
        ""
      ],
      "execution_count": 5,
      "outputs": []
    }
  ]
}