{
  "nbformat": 4,
  "nbformat_minor": 0,
  "metadata": {
    "colab": {
      "name": "output_layer_design.ipynb",
      "provenance": [],
      "collapsed_sections": [],
      "authorship_tag": "ABX9TyM9L+kdouVTOFmtTJ04fBBG",
      "include_colab_link": true
    },
    "kernelspec": {
      "name": "python3",
      "display_name": "Python 3"
    }
  },
  "cells": [
    {
      "cell_type": "markdown",
      "metadata": {
        "id": "view-in-github",
        "colab_type": "text"
      },
      "source": [
        "<a href=\"https://colab.research.google.com/github/msjun23/Deep-Learning-from-Scratch/blob/main/Chapter3/output_layer_design.ipynb\" target=\"_parent\"><img src=\"https://colab.research.google.com/assets/colab-badge.svg\" alt=\"Open In Colab\"/></a>"
      ]
    },
    {
      "cell_type": "markdown",
      "metadata": {
        "id": "kEjTib9WoerZ"
      },
      "source": [
        "#출력층 설계하기\r\n",
        "신경망은 분류와 회귀 모두에 이용할 수 있다.\r\n",
        "\r\n",
        "- 분류 : 데이터가 어느 클래스에 속하는냐 -> **소프트맥스**\r\n",
        "- 회귀 : 입력 데이터에서 연속적인 수치 예측 -> **항등 함수**"
      ]
    },
    {
      "cell_type": "markdown",
      "metadata": {
        "id": "jN-XR4zDo8T2"
      },
      "source": [
        "#항등 함수\r\n",
        "\r\n",
        "항등 함수(identity function)는 입력을 그대로 출력한다. '항등'이라는 뜻 그대로 입력과 출력이 항상 같다.\r\n",
        "\r\n",
        "#소프트맥스 함수\r\n",
        "소프트맥스(softmax) 함수는 아래와 같다.\r\n",
        "\r\n",
        ">$y_k=\\frac{exp(a_k)}{\\sum_{i=1}^{n}exp(a_i)}$\r\n",
        "\r\n",
        "$n$은 추력층의 뉴런 수, $y_k$는 그중 $k$번째 출력임을 뜻한다. 분자는 입력 신호 $a_k$의 지수 함수, 분모는 모든 입력 신호의 지수 함수의 합으로 구성된다.\r\n",
        "\r\n",
        "위 식의 분모를 보면 알 수 있듯이, 소프트맥스의 출력은 모든 입력 신호로부터 영향을 받는다."
      ]
    },
    {
      "cell_type": "code",
      "metadata": {
        "id": "QTwdXTDXnz0O"
      },
      "source": [
        "import numpy as np"
      ],
      "execution_count": 1,
      "outputs": []
    },
    {
      "cell_type": "code",
      "metadata": {
        "colab": {
          "base_uri": "https://localhost:8080/"
        },
        "id": "jo5tnsYGqv5r",
        "outputId": "622d5d5a-39f3-4aad-e309-28541c328fe9"
      },
      "source": [
        "# 소프트맥스 구현하기\r\n",
        "a = np.array([0.3, 2.9, 4.0])\r\n",
        "exp_a = np.exp(a)   # 각 입력에 대한 지수 함수\r\n",
        "print(exp_a)\r\n",
        "\r\n",
        "sum_exp_a = np.sum(exp_a)\r\n",
        "print(sum_exp_a)\r\n",
        "\r\n",
        "y = exp_a / sum_exp_a\r\n",
        "print(y)"
      ],
      "execution_count": 2,
      "outputs": [
        {
          "output_type": "stream",
          "text": [
            "[ 1.34985881 18.17414537 54.59815003]\n",
            "74.1221542101633\n",
            "[0.01821127 0.24519181 0.73659691]\n"
          ],
          "name": "stdout"
        }
      ]
    },
    {
      "cell_type": "code",
      "metadata": {
        "id": "NdK307JLq6gt"
      },
      "source": [
        "# 소프트맥스 함수 정의\r\n",
        "def softmax(a):\r\n",
        "  exp_a = np.exp(a)\r\n",
        "  sum_exp_a = np.sum(exp_a)\r\n",
        "  y = exp_a / sum_exp_a\r\n",
        "\r\n",
        "  return y"
      ],
      "execution_count": 3,
      "outputs": []
    },
    {
      "cell_type": "markdown",
      "metadata": {
        "id": "LoTN0flArY9-"
      },
      "source": [
        "위와 같이 소프트맥스 함수를 구현하고 정의했다. 하지만 한 가지 주의해야 할 점이 있다. 소프트맥스 함수는 **지수 함수**를 사용하는데 지수 함수는 입력이 조금만 증가해도 아주 큰 값을 출력한다. 예를 들어 $e^{10}$은 20,000이 넘고, $e^{1000}$은 무한대를 뜻하는 inf를 출력한다. 컴퓨터가 표현할 수 있는 범위가 문제가 되어 쉽게 **오버플로우**가 발생할 수 있다.\r\n",
        "\r\n",
        "이 문제를 해결하기 위해 소프트맥스의 식을 조금 개선해야 한다.\r\n",
        "\r\n",
        "> $$y_k=\\frac{exp(a_k)}{\\sum_{i=1}^{n}exp(a_i)}=\\frac{Cexp(a_k)}{C\\sum_{i=1}^{n}exp(a_i)}\r\n",
        "\\\\=\\frac{exp(a_k+logC)}{\\sum_{i=1}^{n}exp(a_i+logC)}\r\n",
        "\\\\=\\frac{exp(a_k+C')}{\\sum_{i=1}^{n}exp(a_i+C')}$$\r\n",
        "\r\n",
        "분자, 분모에 $C$라는 임의의 정수를 곱해주었다. 그 후는 단순히 수학적인 전개이다.\r\n",
        "\r\n",
        "위의 식에서 알 수 있는 것은 **소프트맥스의 지수 함수를 계산할 때 어떤 정수를 더해도(빼도) 결과는 바뀌지 않는다**는 것이다."
      ]
    },
    {
      "cell_type": "code",
      "metadata": {
        "colab": {
          "base_uri": "https://localhost:8080/"
        },
        "id": "EEkUCP0GrSWU",
        "outputId": "6bef4fde-0050-413c-9192-3e520a08d779"
      },
      "source": [
        "# 소프트맥스 오버플로 예시\r\n",
        "a = np.array([1010, 1000, 990])\r\n",
        "print(np.exp(a) / np.sum(np.exp(a)))\r\n",
        "\r\n",
        "c = np.max(a)\r\n",
        "print(a - c)\r\n",
        "\r\n",
        "print(np.exp(a - c) / np.sum(np.exp(a - c)))"
      ],
      "execution_count": 4,
      "outputs": [
        {
          "output_type": "stream",
          "text": [
            "[nan nan nan]\n",
            "[  0 -10 -20]\n",
            "[9.99954600e-01 4.53978686e-05 2.06106005e-09]\n"
          ],
          "name": "stdout"
        },
        {
          "output_type": "stream",
          "text": [
            "/usr/local/lib/python3.6/dist-packages/ipykernel_launcher.py:3: RuntimeWarning: overflow encountered in exp\n",
            "  This is separate from the ipykernel package so we can avoid doing imports until\n",
            "/usr/local/lib/python3.6/dist-packages/ipykernel_launcher.py:3: RuntimeWarning: invalid value encountered in true_divide\n",
            "  This is separate from the ipykernel package so we can avoid doing imports until\n"
          ],
          "name": "stderr"
        }
      ]
    },
    {
      "cell_type": "markdown",
      "metadata": {
        "id": "lXXKf1-PwLNQ"
      },
      "source": [
        "예시에서 확인할 수 있듯이, 큰 수에 대해 별다른 조치없이 계산하면 nan(not a number)이 출력된다. 하지만 이를 방지하기 위해 입력 신호 중 최대값(c)를 빼주면 올바른 계산이 가능했다."
      ]
    },
    {
      "cell_type": "code",
      "metadata": {
        "id": "uO2rhSgRv17Q"
      },
      "source": [
        "# 소프트맥스 재정의\r\n",
        "def softmax(a):\r\n",
        "  c = np.max(a)\r\n",
        "  exp_a = np.exp(a - c)   # 오버플로 대책(결과는 바뀌지 않는다.)\r\n",
        "  sum_exp_a = np.sum(exp_a)\r\n",
        "  y = exp_a / sum_exp_a\r\n",
        "  \r\n",
        "  return y"
      ],
      "execution_count": 5,
      "outputs": []
    },
    {
      "cell_type": "code",
      "metadata": {
        "colab": {
          "base_uri": "https://localhost:8080/"
        },
        "id": "wc3SuDgvw9HC",
        "outputId": "df5833a4-1740-44ec-d477-67cacf80ac16"
      },
      "source": [
        "# 소프트맥스 출력 예시\r\n",
        "a = np.array([0.3, 2.9, 4.0])\r\n",
        "y = softmax(a)\r\n",
        "print(y)\r\n",
        "\r\n",
        "print(np.sum(y))"
      ],
      "execution_count": 6,
      "outputs": [
        {
          "output_type": "stream",
          "text": [
            "[0.01821127 0.24519181 0.73659691]\n",
            "1.0\n"
          ],
          "name": "stdout"
        }
      ]
    },
    {
      "cell_type": "markdown",
      "metadata": {
        "id": "3hnuU-ZnxPId"
      },
      "source": [
        "위 예시를 보면 소프트맥스 함수의 **모든 출력은 0 에서 1 사이**이다. 또한 **출력의 총합은 1** 이다. 이는 소프트맥스에 있어 상당히 중요한 성질이다. 이 성질 덕분에 소프트맥스 함수의 출력을 **'확률'**로 해석할 수 있다.\r\n",
        "\r\n",
        "예시를 보면 y[0]의 확률은 0.018(1.8%), y[1], y[2]는 각각 0.245(24.5%), 0.737(73.7%)로 해석 가능하다. 이 결과는 입력의 답은 73.7%의 확률로 2번째 클래스라는 것을 암시한다. 즉, 소프트맥스 함수를 이용함으로써 문제를 **확률적**(통계적)으로 대응할 수 있게됐다.\r\n",
        "\r\n",
        "여기서 한가지 주의할 점이 있다.소프트맥스 함수를 적용해도 **각 원소의 대소 관계는 변하지 않는다**. $y=exp(x)$는 단수 증가 함수이기 때문이다. 실제로 앞의 예시에서 $a$의 원소들 중 가장 큰 값은 2번째 원소이고, $y$의 가장 큰 원소 또한 2번째 원소이다.\r\n",
        "\r\n",
        "신경망을 이용한 분류에서는 일반적으로 가장 큰 출력을 내는 뉴런에 해당하는 클래스만을 인식한다. 그리고 위의 특징에 따라 소프트맥스 함수를 적용해도 출력이 가장 큰 뉴런의 위치는 달라지지 않는다. 결과적으로 **신경망으로 분류**할 때는 출력층의 **소프트맥스 함수를 생략**해도 된다는 것이다. 현업에서도 지수 함수 계산에 들어가는 자원 낭비를 줄이고자 출력층의 소프트맥스 함수를 생략하는 것이 일반적이다.\r\n",
        "> 신경망을 학습시킬 때는 출력층에서 소프트맥스 함수를 사용한다. 출력층의 소프트맥스 함수를 생략하는 것이 일반적인것은 추론 단계이다."
      ]
    },
    {
      "cell_type": "markdown",
      "metadata": {
        "id": "JYZAdTi_0rfz"
      },
      "source": [
        "#출력층의 뉴런 수\r\n",
        "\r\n",
        "출력층의 뉴런 수는 풀려는 문제에 맞게 정해야한다. 분류에서는 분류하고자 하는 클래스의 수로 설정하는 것이 일반적이다. 예를 들어 입력이미지를 0 ~ 9 중 하나의 숫자로 분류하고자 한다면 출력층의 뉴런 수를 10개로 설정한다."
      ]
    },
    {
      "cell_type": "code",
      "metadata": {
        "id": "4e5nQwCzxLUx"
      },
      "source": [
        ""
      ],
      "execution_count": 6,
      "outputs": []
    }
  ]
}