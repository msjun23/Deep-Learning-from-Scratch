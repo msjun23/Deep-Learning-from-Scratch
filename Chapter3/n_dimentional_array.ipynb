{
  "nbformat": 4,
  "nbformat_minor": 0,
  "metadata": {
    "colab": {
      "name": "n_dimentional_array.ipynb",
      "provenance": [],
      "collapsed_sections": [],
      "authorship_tag": "ABX9TyNS8D9O4BmzTSSD9A8Umy58",
      "include_colab_link": true
    },
    "kernelspec": {
      "name": "python3",
      "display_name": "Python 3"
    }
  },
  "cells": [
    {
      "cell_type": "markdown",
      "metadata": {
        "id": "view-in-github",
        "colab_type": "text"
      },
      "source": [
        "<a href=\"https://colab.research.google.com/github/msjun23/Deep-Learning-from-Scratch/blob/main/Chapter3/n_dimentional_array.ipynb\" target=\"_parent\"><img src=\"https://colab.research.google.com/assets/colab-badge.svg\" alt=\"Open In Colab\"/></a>"
      ]
    },
    {
      "cell_type": "markdown",
      "metadata": {
        "id": "omnaVT8D7hIc"
      },
      "source": [
        "넘파이의 다차원 배열을 사용한 계산법을 숙달하면 신경망을 효율적으로 구현할 수 있다.\r\n",
        "\r\n",
        "#다차원 배열\r\n",
        "기본은 '숫자의 집합'이다. 2, 3, N차원으로 나열하는 것을 통틀어 다차원 배열이라고 한다."
      ]
    },
    {
      "cell_type": "code",
      "metadata": {
        "colab": {
          "base_uri": "https://localhost:8080/"
        },
        "id": "XCtwQ-dN7JtV",
        "outputId": "14d9e741-7004-46b4-c03e-024b7b055c11"
      },
      "source": [
        "# 1차원 배열\r\n",
        "import numpy as np\r\n",
        "\r\n",
        "A = np.array([1, 2, 3, 4])\r\n",
        "print(A)\r\n",
        "print(np.ndim(A))   # np.ndim() 함수로 배열의 차원 수 확인 가능\r\n",
        "print(A.shape)      # 배열의 형상은 shape로 확인 가능. 반환형은 튜플\r\n",
        "print(A.shape[0])"
      ],
      "execution_count": 1,
      "outputs": [
        {
          "output_type": "stream",
          "text": [
            "[1 2 3 4]\n",
            "1\n",
            "(4,)\n",
            "4\n"
          ],
          "name": "stdout"
        }
      ]
    },
    {
      "cell_type": "code",
      "metadata": {
        "colab": {
          "base_uri": "https://localhost:8080/"
        },
        "id": "OekSObdI-E3P",
        "outputId": "6dd93f04-242d-4ad6-c383-5df62bdf6310"
      },
      "source": [
        "# 2차원 배열 = 행렬(matrix)\r\n",
        "B = np.array([[1, 2], [3, 4], [5, 6]])\r\n",
        "print(B)\r\n",
        "print(np.ndim(B))\r\n",
        "print(B.shape)"
      ],
      "execution_count": 3,
      "outputs": [
        {
          "output_type": "stream",
          "text": [
            "[[1 2]\n",
            " [3 4]\n",
            " [5 6]]\n",
            "2\n",
            "(3, 2)\n"
          ],
          "name": "stdout"
        }
      ]
    },
    {
      "cell_type": "code",
      "metadata": {
        "colab": {
          "base_uri": "https://localhost:8080/"
        },
        "id": "f51IeIRt-uDL",
        "outputId": "ecce5dc9-6c24-46fd-d65e-b09169a034bb"
      },
      "source": [
        "# 행렬의 곱 구현\r\n",
        "A = np.array([[1, 2], [3, 4]])\r\n",
        "print(A.shape)\r\n",
        "B = np.array([[5, 6], [7, 8]])\r\n",
        "print(B.shape)\r\n",
        "\r\n",
        "print(np.dot(A, B))   # np.dot() 함수를 이용해 행렬의 곱 계산 가능"
      ],
      "execution_count": 5,
      "outputs": [
        {
          "output_type": "stream",
          "text": [
            "(2, 2)\n",
            "(2, 2)\n",
            "[[19 22]\n",
            " [43 50]]\n"
          ],
          "name": "stdout"
        }
      ]
    },
    {
      "cell_type": "code",
      "metadata": {
        "colab": {
          "base_uri": "https://localhost:8080/"
        },
        "id": "agFo0hEW_l7z",
        "outputId": "cdfca75f-125a-4652-8f58-6fe9f535a95f"
      },
      "source": [
        "# 2x3 행렬과 3x2 행렬의 곱 구현\r\n",
        "A = np.array([[1, 2, 3], [4, 5, 6]])\r\n",
        "print(A.shape)\r\n",
        "B = np.array([[1, 2], [3, 4,], [5, 6]])\r\n",
        "print(B.shape)\r\n",
        "\r\n",
        "print(np.dot(A, B))   # (2, 3), (3, 2)행렬의 곱 결과는 (2, 2)"
      ],
      "execution_count": 6,
      "outputs": [
        {
          "output_type": "stream",
          "text": [
            "(2, 3)\n",
            "(3, 2)\n",
            "[[22 28]\n",
            " [49 64]]\n"
          ],
          "name": "stdout"
        }
      ]
    },
    {
      "cell_type": "code",
      "metadata": {
        "colab": {
          "base_uri": "https://localhost:8080/",
          "height": 274
        },
        "id": "SNa0z2oTAR8b",
        "outputId": "9f2aa189-1298-4180-ba8f-392c1e531f70"
      },
      "source": [
        "# 2x3 행렬과 2x2 행렬의 곱은 계산할 수 없다.\r\n",
        "C = np.array([[1, 2], [3, 4]])\r\n",
        "print(C.shape)\r\n",
        "print(A.shape)\r\n",
        "\r\n",
        "print(np.dot(A, C))"
      ],
      "execution_count": 7,
      "outputs": [
        {
          "output_type": "stream",
          "text": [
            "(2, 2)\n",
            "(2, 3)\n"
          ],
          "name": "stdout"
        },
        {
          "output_type": "error",
          "ename": "ValueError",
          "evalue": "ignored",
          "traceback": [
            "\u001b[0;31m---------------------------------------------------------------------------\u001b[0m",
            "\u001b[0;31mValueError\u001b[0m                                Traceback (most recent call last)",
            "\u001b[0;32m<ipython-input-7-a6dd596851cd>\u001b[0m in \u001b[0;36m<module>\u001b[0;34m()\u001b[0m\n\u001b[1;32m      4\u001b[0m \u001b[0mprint\u001b[0m\u001b[0;34m(\u001b[0m\u001b[0mA\u001b[0m\u001b[0;34m.\u001b[0m\u001b[0mshape\u001b[0m\u001b[0;34m)\u001b[0m\u001b[0;34m\u001b[0m\u001b[0;34m\u001b[0m\u001b[0m\n\u001b[1;32m      5\u001b[0m \u001b[0;34m\u001b[0m\u001b[0m\n\u001b[0;32m----> 6\u001b[0;31m \u001b[0mprint\u001b[0m\u001b[0;34m(\u001b[0m\u001b[0mnp\u001b[0m\u001b[0;34m.\u001b[0m\u001b[0mdot\u001b[0m\u001b[0;34m(\u001b[0m\u001b[0mA\u001b[0m\u001b[0;34m,\u001b[0m \u001b[0mC\u001b[0m\u001b[0;34m)\u001b[0m\u001b[0;34m)\u001b[0m\u001b[0;34m\u001b[0m\u001b[0;34m\u001b[0m\u001b[0m\n\u001b[0m",
            "\u001b[0;32m<__array_function__ internals>\u001b[0m in \u001b[0;36mdot\u001b[0;34m(*args, **kwargs)\u001b[0m\n",
            "\u001b[0;31mValueError\u001b[0m: shapes (2,3) and (2,2) not aligned: 3 (dim 1) != 2 (dim 0)"
          ]
        }
      ]
    },
    {
      "cell_type": "code",
      "metadata": {
        "colab": {
          "base_uri": "https://localhost:8080/"
        },
        "id": "YnpT5tV_Av3H",
        "outputId": "7ee97fb5-5524-46e0-8610-56cb35ac0b1f"
      },
      "source": [
        "A = np.array([[1, 2], [3, 4], [5, 6]])\r\n",
        "print(A)\r\n",
        "print(A.shape)\r\n",
        "B = np.array([7, 8])\r\n",
        "print(B)\r\n",
        "print(B.shape)\r\n",
        "\r\n",
        "print(np.dot(A, B))"
      ],
      "execution_count": 11,
      "outputs": [
        {
          "output_type": "stream",
          "text": [
            "[[1 2]\n",
            " [3 4]\n",
            " [5 6]]\n",
            "(3, 2)\n",
            "[7 8]\n",
            "(2,)\n",
            "[23 53 83]\n"
          ],
          "name": "stdout"
        }
      ]
    },
    {
      "cell_type": "code",
      "metadata": {
        "colab": {
          "base_uri": "https://localhost:8080/"
        },
        "id": "89yJZyBKBi64",
        "outputId": "fbf85bdd-10f9-4840-8547-13a4b5e2aa88"
      },
      "source": [
        "# 신경망에서의 행렬곱\r\n",
        "# X(입력), W(가중치)의 대응하는 차원의 원소 수가 같아야 한다.\r\n",
        "X = np.array([1, 2])\r\n",
        "print(X)\r\n",
        "print(X.shape)\r\n",
        "W = np.array([[1, 3, 5], [2, 4, 6]])\r\n",
        "print(W)\r\n",
        "print(W.shape)\r\n",
        "\r\n",
        "Y = np.dot(X, W)\r\n",
        "print(Y)"
      ],
      "execution_count": 12,
      "outputs": [
        {
          "output_type": "stream",
          "text": [
            "[1 2]\n",
            "(2,)\n",
            "[[1 3 5]\n",
            " [2 4 6]]\n",
            "(2, 3)\n",
            "[ 5 11 17]\n"
          ],
          "name": "stdout"
        }
      ]
    },
    {
      "cell_type": "code",
      "metadata": {
        "id": "8hPFGOcRCYWR"
      },
      "source": [
        ""
      ],
      "execution_count": null,
      "outputs": []
    }
  ]
}