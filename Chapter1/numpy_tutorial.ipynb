{
  "nbformat": 4,
  "nbformat_minor": 0,
  "metadata": {
    "colab": {
      "name": "numpy_tutorial.ipynb",
      "provenance": [],
      "collapsed_sections": [],
      "authorship_tag": "ABX9TyPac8BXZQhZjCHv6wo55gk8",
      "include_colab_link": true
    },
    "kernelspec": {
      "name": "python3",
      "display_name": "Python 3"
    }
  },
  "cells": [
    {
      "cell_type": "markdown",
      "metadata": {
        "id": "view-in-github",
        "colab_type": "text"
      },
      "source": [
        "<a href=\"https://colab.research.google.com/github/msjun23/Deep-Learning-from-Scratch/blob/main/Chapter1/numpy_tutorial.ipynb\" target=\"_parent\"><img src=\"https://colab.research.google.com/assets/colab-badge.svg\" alt=\"Open In Colab\"/></a>"
      ]
    },
    {
      "cell_type": "markdown",
      "metadata": {
        "id": "ewQSaj81m8UK"
      },
      "source": [
        "**넘파이**의 배열 클래스인 numpy.array를 사용하여 배열이나 행렬 계산을 수행한다."
      ]
    },
    {
      "cell_type": "code",
      "metadata": {
        "id": "AzUMewtql1Iu"
      },
      "source": [
        "import numpy as np"
      ],
      "execution_count": 1,
      "outputs": []
    },
    {
      "cell_type": "markdown",
      "metadata": {
        "id": "93QcP2HPndfb"
      },
      "source": [
        "np.array()는 파이썬의 리스트를 인수로 받아 넘파이 라이브러리가 제공하는 특수한 형태의 배열(numpy.ndarray)을 반환한다."
      ]
    },
    {
      "cell_type": "code",
      "metadata": {
        "colab": {
          "base_uri": "https://localhost:8080/"
        },
        "id": "9oxjzf1CnTKU",
        "outputId": "14b4bc50-d023-4bdd-d014-785fe4443fad"
      },
      "source": [
        "x = np.array([1.0, 2.0, 3.0]) # 1차원 배열 생성\r\n",
        "print(x)\r\n",
        "print(type(x))"
      ],
      "execution_count": 2,
      "outputs": [
        {
          "output_type": "stream",
          "text": [
            "[1. 2. 3.]\n",
            "<class 'numpy.ndarray'>\n"
          ],
          "name": "stdout"
        }
      ]
    },
    {
      "cell_type": "code",
      "metadata": {
        "colab": {
          "base_uri": "https://localhost:8080/"
        },
        "id": "8tZY9M0LnZ-y",
        "outputId": "90596017-678b-4ca5-88e4-e4fd0641008b"
      },
      "source": [
        "x = np.array([1.0, 2.0, 3.0])\r\n",
        "y = np.array([2.0, 4.0, 6.0])\r\n",
        "print(x + y)    # 원소별 덧셈\r\n",
        "print(x - y)\r\n",
        "print(x * y)    # 원소별 곱셈\r\n",
        "print(x / y)"
      ],
      "execution_count": 3,
      "outputs": [
        {
          "output_type": "stream",
          "text": [
            "[3. 6. 9.]\n",
            "[-1. -2. -3.]\n",
            "[ 2.  8. 18.]\n",
            "[0.5 0.5 0.5]\n"
          ],
          "name": "stdout"
        }
      ]
    },
    {
      "cell_type": "markdown",
      "metadata": {
        "id": "Jspl_ZVyoyzK"
      },
      "source": [
        "두 배열 x, y의 원소들을 가지고 산술 연산을 진행하였다. 이때 주의할 점은 두 배열의 원소 수가 같다는 것이다. 두 배열의 원소 수가 같다면, 산술 연산은 각 원소에 대해 행해진다. 반면, 원소 수가 다를 경우에는 오류가 발생한다.\r\n",
        "\r\n",
        "'원소별'이라는 말은 element-wise 라고 한다. 예를 들어 '원소별 곱셈'은 element-wise product라고 한다.\r\n",
        "\r\n",
        "넘파이 배열은 원소별 계산뿐 아니라 넘파이 배열과 스칼라값의 조합으로 된 산술 연산도 수행할 수 있다. 이 경우 스칼라값과의 계산이 넘파이 배열 원소별로 수행되는데 이를 **브로트캐스트**라고 한다."
      ]
    },
    {
      "cell_type": "code",
      "metadata": {
        "colab": {
          "base_uri": "https://localhost:8080/"
        },
        "id": "bNPqhzOwoWGD",
        "outputId": "76800d82-42aa-4712-c19f-de816572056b"
      },
      "source": [
        "x = np.array([1.0, 2.0, 3.0])\r\n",
        "print(x / 2.0)"
      ],
      "execution_count": 4,
      "outputs": [
        {
          "output_type": "stream",
          "text": [
            "[0.5 1.  1.5]\n"
          ],
          "name": "stdout"
        }
      ]
    },
    {
      "cell_type": "markdown",
      "metadata": {
        "id": "lH1Lj0K-qRvM"
      },
      "source": [
        "넘파이 배열은 1차원 배열 뿐 아니라 다차원 배열 작성에도 유용하다."
      ]
    },
    {
      "cell_type": "code",
      "metadata": {
        "colab": {
          "base_uri": "https://localhost:8080/"
        },
        "id": "H2jLvsCoqNUO",
        "outputId": "32671e31-3415-42eb-af04-6601781047d6"
      },
      "source": [
        "A = np.array([[1, 2], [3, 4]])    # 2차원 배열 생성\r\n",
        "print(A)\r\n",
        "print(A.shape)    # A의 크기(형태)\r\n",
        "print(A.dtype)    # A의 데이터 타입"
      ],
      "execution_count": 5,
      "outputs": [
        {
          "output_type": "stream",
          "text": [
            "[[1 2]\n",
            " [3 4]]\n",
            "(2, 2)\n",
            "int64\n"
          ],
          "name": "stdout"
        }
      ]
    },
    {
      "cell_type": "code",
      "metadata": {
        "colab": {
          "base_uri": "https://localhost:8080/"
        },
        "id": "jy9vicjQqmnq",
        "outputId": "3bafdd69-1925-4279-9d18-5b1f076355f1"
      },
      "source": [
        "B = np.array([[3, 0], [0, 6]])\r\n",
        "print(A + B)\r\n",
        "print(A * B)"
      ],
      "execution_count": 6,
      "outputs": [
        {
          "output_type": "stream",
          "text": [
            "[[ 4  2]\n",
            " [ 3 10]]\n",
            "[[ 3  0]\n",
            " [ 0 24]]\n"
          ],
          "name": "stdout"
        }
      ]
    },
    {
      "cell_type": "markdown",
      "metadata": {
        "id": "Jd1H-XTRq5hG"
      },
      "source": [
        "차원(형상)이 같은 행렬의 대응하는 원소별로 산술 연산도 가능하다. 행렬과 스칼라값의 산술 연산도 가능하고, 이때도 배열과 마찬가지로 **브로트캐스트** 기능이 작동한다."
      ]
    },
    {
      "cell_type": "code",
      "metadata": {
        "colab": {
          "base_uri": "https://localhost:8080/"
        },
        "id": "5GU_BNlWq4kf",
        "outputId": "c7d0f77a-5341-4160-ac07-6636f58bbe64"
      },
      "source": [
        "print(A)\r\n",
        "print(A * 10)"
      ],
      "execution_count": 7,
      "outputs": [
        {
          "output_type": "stream",
          "text": [
            "[[1 2]\n",
            " [3 4]]\n",
            "[[10 20]\n",
            " [30 40]]\n"
          ],
          "name": "stdout"
        }
      ]
    },
    {
      "cell_type": "markdown",
      "metadata": {
        "id": "KH6yEuOArZkv"
      },
      "source": [
        "# 브로드캐스트\r\n",
        "\r\n",
        "넘파이에서는 형상이 다른 배열끼리도 계산할 수 있다. 앞의 예에서 2 x 2 행렬과 스칼라값을 곱했다. 이때 스칼라값을 2 x 2 행렬로 확대한 한 대응하는 원소별 연산이 이루어진 것이다. 이러한 기능을 **브로트캐스트**라고 한다.\r\n",
        "\r\n",
        "아래의 예제는 1차원 배열인 B가 2차원 배열로 변형된 후 연산이 이루어진다."
      ]
    },
    {
      "cell_type": "code",
      "metadata": {
        "colab": {
          "base_uri": "https://localhost:8080/"
        },
        "id": "w2hy7Y6crSZ9",
        "outputId": "7c34c0ef-2944-4332-841e-e4d7469f91b9"
      },
      "source": [
        "A = np.array([[1, 2], [3, 4]])\r\n",
        "B = np.array([10, 20])\r\n",
        "print(A * B)"
      ],
      "execution_count": 8,
      "outputs": [
        {
          "output_type": "stream",
          "text": [
            "[[10 40]\n",
            " [30 80]]\n"
          ],
          "name": "stdout"
        }
      ]
    },
    {
      "cell_type": "markdown",
      "metadata": {
        "id": "ZN8AL_t8svmM"
      },
      "source": [
        "원소의 인덱스는 당연히 0부터 시작하고, for 문으로도 원소의 접근이 가능하다."
      ]
    },
    {
      "cell_type": "code",
      "metadata": {
        "colab": {
          "base_uri": "https://localhost:8080/"
        },
        "id": "nyzCKJGpsEGU",
        "outputId": "394729b0-22db-44dc-9fcc-31ba42b8e81f"
      },
      "source": [
        "X = np.array([[51, 55], [14, 19], [0, 4]])\r\n",
        "print(X)\r\n",
        "print(X[0])    # 0행\r\n",
        "print(X[0][1])    # 0행 1열"
      ],
      "execution_count": 9,
      "outputs": [
        {
          "output_type": "stream",
          "text": [
            "[[51 55]\n",
            " [14 19]\n",
            " [ 0  4]]\n",
            "[51 55]\n",
            "55\n"
          ],
          "name": "stdout"
        }
      ]
    },
    {
      "cell_type": "code",
      "metadata": {
        "colab": {
          "base_uri": "https://localhost:8080/"
        },
        "id": "S4AIaJgcsjRk",
        "outputId": "0af50709-a5aa-4910-d838-edbf076b8489"
      },
      "source": [
        "for row in X:\r\n",
        "  print(row)"
      ],
      "execution_count": 10,
      "outputs": [
        {
          "output_type": "stream",
          "text": [
            "[51 55]\n",
            "[14 19]\n",
            "[0 4]\n"
          ],
          "name": "stdout"
        }
      ]
    },
    {
      "cell_type": "markdown",
      "metadata": {
        "id": "FFczJTxls6np"
      },
      "source": [
        "넘파이는 이외에도, 인덱스를 배열로 지정해 한 번에 여러 원소에 접근할 수도 있다."
      ]
    },
    {
      "cell_type": "code",
      "metadata": {
        "colab": {
          "base_uri": "https://localhost:8080/"
        },
        "id": "YoaTZsczs3Q5",
        "outputId": "060bade9-ef35-4375-a772-09b95eedf3d7"
      },
      "source": [
        "X = X.flatten()   # X를 1차원 배열로 변환(평탄화)\r\n",
        "print(X)\r\n",
        "print(X[np.array([0, 2, 4])])   # 인덱스가 0, 2, 4인 원소 얻기\r\n",
        "print(X[([0, 2, 4])])"
      ],
      "execution_count": 11,
      "outputs": [
        {
          "output_type": "stream",
          "text": [
            "[51 55 14 19  0  4]\n",
            "[51 14  0]\n",
            "[51 14  0]\n"
          ],
          "name": "stdout"
        }
      ]
    },
    {
      "cell_type": "markdown",
      "metadata": {
        "id": "IHv68kfNtw4N"
      },
      "source": [
        "특정 조건을 만족하는 원소만 얻을 수도 있다."
      ]
    },
    {
      "cell_type": "code",
      "metadata": {
        "colab": {
          "base_uri": "https://localhost:8080/"
        },
        "id": "nQpy-ckwtYha",
        "outputId": "35668fdb-4ab6-42fc-86c3-1473eaf73e02"
      },
      "source": [
        "print(X > 15)   # X의 원소 중 15보다 큰 것들 반환, 출력\r\n",
        "print(X[X > 15])    # X의 원소 중 15보다 큰 것들 반환 -> 인덱스로 사용"
      ],
      "execution_count": 12,
      "outputs": [
        {
          "output_type": "stream",
          "text": [
            "[ True  True False  True False False]\n",
            "[51 55 19]\n"
          ],
          "name": "stdout"
        }
      ]
    },
    {
      "cell_type": "code",
      "metadata": {
        "id": "11gN80Cst5Ew"
      },
      "source": [
        ""
      ],
      "execution_count": 12,
      "outputs": []
    }
  ]
}